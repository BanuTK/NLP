{
  "nbformat": 4,
  "nbformat_minor": 0,
  "metadata": {
    "colab": {
      "name": "Scrap_Twitter.ipynb",
      "provenance": [],
      "mount_file_id": "1ORcSjAEaRYbXt_IvOY9-S5jXiVKt3HOZ",
      "authorship_tag": "ABX9TyOo1+VZ4+S783ZS4uuRb6P9",
      "include_colab_link": true
    },
    "kernelspec": {
      "name": "python3",
      "display_name": "Python 3"
    },
    "language_info": {
      "name": "python"
    }
  },
  "cells": [
    {
      "cell_type": "markdown",
      "metadata": {
        "id": "view-in-github",
        "colab_type": "text"
      },
      "source": [
        "<a href=\"https://colab.research.google.com/github/BanuTK/NLP/blob/main/Scrap_Twitter.ipynb\" target=\"_parent\"><img src=\"https://colab.research.google.com/assets/colab-badge.svg\" alt=\"Open In Colab\"/></a>"
      ]
    },
    {
      "cell_type": "code",
      "metadata": {
        "id": "PYVwB6imJlDw",
        "colab": {
          "base_uri": "https://localhost:8080/"
        },
        "outputId": "7dfade08-4474-4b27-c8e4-6289242ef11b"
      },
      "source": [
        " !pip3 install --user --upgrade git+https://github.com/twintproject/twint.git@origin/master#egg=twint"
      ],
      "execution_count": 13,
      "outputs": [
        {
          "output_type": "stream",
          "text": [
            "Collecting twint\n",
            "  Cloning https://github.com/twintproject/twint.git (to revision origin/master) to /tmp/pip-install-s5nw7w8w/twint\n",
            "  Running command git clone -q https://github.com/twintproject/twint.git /tmp/pip-install-s5nw7w8w/twint\n",
            "\u001b[33m  WARNING: Did not find branch or tag 'origin/master', assuming revision or ref.\u001b[0m\n",
            "  Running command git checkout -q origin/master\n",
            "Requirement already satisfied, skipping upgrade: aiohttp in /root/.local/lib/python3.7/site-packages (from twint) (3.7.4.post0)\n",
            "Requirement already satisfied, skipping upgrade: aiodns in /root/.local/lib/python3.7/site-packages (from twint) (3.0.0)\n",
            "Requirement already satisfied, skipping upgrade: beautifulsoup4 in /usr/local/lib/python3.7/dist-packages (from twint) (4.6.3)\n",
            "Requirement already satisfied, skipping upgrade: cchardet in /root/.local/lib/python3.7/site-packages (from twint) (2.1.7)\n",
            "Requirement already satisfied, skipping upgrade: dataclasses in /root/.local/lib/python3.7/site-packages (from twint) (0.6)\n",
            "Requirement already satisfied, skipping upgrade: elasticsearch in /root/.local/lib/python3.7/site-packages (from twint) (7.13.1)\n",
            "Requirement already satisfied, skipping upgrade: pysocks in /usr/local/lib/python3.7/dist-packages (from twint) (1.7.1)\n",
            "Requirement already satisfied, skipping upgrade: pandas in /usr/local/lib/python3.7/dist-packages (from twint) (1.1.5)\n",
            "Requirement already satisfied, skipping upgrade: aiohttp_socks in /usr/local/lib/python3.7/dist-packages (from twint) (0.4.1)\n",
            "Requirement already satisfied, skipping upgrade: schedule in /root/.local/lib/python3.7/site-packages (from twint) (1.1.0)\n",
            "Requirement already satisfied, skipping upgrade: geopy in /usr/local/lib/python3.7/dist-packages (from twint) (1.17.0)\n",
            "Requirement already satisfied, skipping upgrade: fake-useragent in /root/.local/lib/python3.7/site-packages (from twint) (0.1.11)\n",
            "Requirement already satisfied, skipping upgrade: googletransx in /root/.local/lib/python3.7/site-packages (from twint) (2.4.2)\n",
            "Requirement already satisfied, skipping upgrade: async-timeout<4.0,>=3.0 in /root/.local/lib/python3.7/site-packages (from aiohttp->twint) (3.0.1)\n",
            "Requirement already satisfied, skipping upgrade: chardet<5.0,>=2.0 in /usr/local/lib/python3.7/dist-packages (from aiohttp->twint) (3.0.4)\n",
            "Requirement already satisfied, skipping upgrade: multidict<7.0,>=4.5 in /root/.local/lib/python3.7/site-packages (from aiohttp->twint) (5.1.0)\n",
            "Requirement already satisfied, skipping upgrade: yarl<2.0,>=1.0 in /root/.local/lib/python3.7/site-packages (from aiohttp->twint) (1.6.3)\n",
            "Requirement already satisfied, skipping upgrade: typing-extensions>=3.6.5 in /usr/local/lib/python3.7/dist-packages (from aiohttp->twint) (3.7.4.3)\n",
            "Requirement already satisfied, skipping upgrade: attrs>=17.3.0 in /usr/local/lib/python3.7/dist-packages (from aiohttp->twint) (21.2.0)\n",
            "Requirement already satisfied, skipping upgrade: pycares>=4.0.0 in /root/.local/lib/python3.7/site-packages (from aiodns->twint) (4.0.0)\n",
            "Requirement already satisfied, skipping upgrade: certifi in /usr/local/lib/python3.7/dist-packages (from elasticsearch->twint) (2021.5.30)\n",
            "Requirement already satisfied, skipping upgrade: urllib3<2,>=1.21.1 in /usr/local/lib/python3.7/dist-packages (from elasticsearch->twint) (1.24.3)\n",
            "Requirement already satisfied, skipping upgrade: python-dateutil>=2.7.3 in /usr/local/lib/python3.7/dist-packages (from pandas->twint) (2.8.1)\n",
            "Requirement already satisfied, skipping upgrade: numpy>=1.15.4 in /usr/local/lib/python3.7/dist-packages (from pandas->twint) (1.19.5)\n",
            "Requirement already satisfied, skipping upgrade: pytz>=2017.2 in /usr/local/lib/python3.7/dist-packages (from pandas->twint) (2018.9)\n",
            "Requirement already satisfied, skipping upgrade: geographiclib<2,>=1.49 in /usr/local/lib/python3.7/dist-packages (from geopy->twint) (1.50)\n",
            "Requirement already satisfied, skipping upgrade: requests in /usr/local/lib/python3.7/dist-packages (from googletransx->twint) (2.23.0)\n",
            "Requirement already satisfied, skipping upgrade: idna>=2.0 in /usr/local/lib/python3.7/dist-packages (from yarl<2.0,>=1.0->aiohttp->twint) (2.10)\n",
            "Requirement already satisfied, skipping upgrade: cffi>=1.5.0 in /usr/local/lib/python3.7/dist-packages (from pycares>=4.0.0->aiodns->twint) (1.14.5)\n",
            "Requirement already satisfied, skipping upgrade: six>=1.5 in /usr/local/lib/python3.7/dist-packages (from python-dateutil>=2.7.3->pandas->twint) (1.15.0)\n",
            "Requirement already satisfied, skipping upgrade: pycparser in /usr/local/lib/python3.7/dist-packages (from cffi>=1.5.0->pycares>=4.0.0->aiodns->twint) (2.20)\n",
            "Building wheels for collected packages: twint\n",
            "  Building wheel for twint (setup.py) ... \u001b[?25l\u001b[?25hdone\n",
            "  Created wheel for twint: filename=twint-2.1.21-cp37-none-any.whl size=38872 sha256=78855e880382151db65b4dc3f578250ff653b292734d24a6a5bd68456238902e\n",
            "  Stored in directory: /tmp/pip-ephem-wheel-cache-9e7i7sl3/wheels/4f/3b/75/62d04b3b446658ba85401e8868d3cd1d4bc22f17ad755460a6\n",
            "Successfully built twint\n",
            "Installing collected packages: twint\n",
            "\u001b[33m  WARNING: The script twint is installed in '/root/.local/bin' which is not on PATH.\n",
            "  Consider adding this directory to PATH or, if you prefer to suppress this warning, use --no-warn-script-location.\u001b[0m\n",
            "Successfully installed twint-2.1.21\n"
          ],
          "name": "stdout"
        }
      ]
    },
    {
      "cell_type": "code",
      "metadata": {
        "id": "9h6lb1L5_4mD"
      },
      "source": [
        "#Restart runtime"
      ],
      "execution_count": null,
      "outputs": []
    },
    {
      "cell_type": "code",
      "metadata": {
        "colab": {
          "base_uri": "https://localhost:8080/"
        },
        "id": "0hQi1LdMywt4",
        "outputId": "7df57500-59e0-440f-e2dc-0590e8d220e9"
      },
      "source": [
        "!git clone https://github.com/twintproject/twint.git\n",
        "!cd /content/twint && pip3 install . -r requirements.txt"
      ],
      "execution_count": 1,
      "outputs": [
        {
          "output_type": "stream",
          "text": [
            "fatal: destination path 'twint' already exists and is not an empty directory.\n",
            "Processing /content/twint\n",
            "Requirement already satisfied: aiohttp in /root/.local/lib/python3.7/site-packages (from -r requirements.txt (line 1)) (3.7.4.post0)\n",
            "Requirement already satisfied: aiodns in /root/.local/lib/python3.7/site-packages (from -r requirements.txt (line 2)) (3.0.0)\n",
            "Requirement already satisfied: beautifulsoup4 in /usr/local/lib/python3.7/dist-packages (from -r requirements.txt (line 3)) (4.6.3)\n",
            "Requirement already satisfied: cchardet in /root/.local/lib/python3.7/site-packages (from -r requirements.txt (line 4)) (2.1.7)\n",
            "Requirement already satisfied: dataclasses in /root/.local/lib/python3.7/site-packages (from -r requirements.txt (line 5)) (0.6)\n",
            "Requirement already satisfied: elasticsearch in /root/.local/lib/python3.7/site-packages (from -r requirements.txt (line 6)) (7.13.1)\n",
            "Requirement already satisfied: pysocks in /usr/local/lib/python3.7/dist-packages (from -r requirements.txt (line 7)) (1.7.1)\n",
            "Requirement already satisfied: pandas>=0.23.0 in /usr/local/lib/python3.7/dist-packages (from -r requirements.txt (line 8)) (1.1.5)\n",
            "Requirement already satisfied: aiohttp_socks<=0.4.1 in /usr/local/lib/python3.7/dist-packages (from -r requirements.txt (line 9)) (0.4.1)\n",
            "Requirement already satisfied: schedule in /root/.local/lib/python3.7/site-packages (from -r requirements.txt (line 10)) (1.1.0)\n",
            "Requirement already satisfied: geopy in /usr/local/lib/python3.7/dist-packages (from -r requirements.txt (line 11)) (1.17.0)\n",
            "Requirement already satisfied: fake-useragent in /root/.local/lib/python3.7/site-packages (from -r requirements.txt (line 12)) (0.1.11)\n",
            "Requirement already satisfied: googletransx in /root/.local/lib/python3.7/site-packages (from -r requirements.txt (line 13)) (2.4.2)\n",
            "Requirement already satisfied: chardet<5.0,>=2.0 in /usr/local/lib/python3.7/dist-packages (from aiohttp->-r requirements.txt (line 1)) (3.0.4)\n",
            "Requirement already satisfied: typing-extensions>=3.6.5 in /usr/local/lib/python3.7/dist-packages (from aiohttp->-r requirements.txt (line 1)) (3.7.4.3)\n",
            "Requirement already satisfied: async-timeout<4.0,>=3.0 in /root/.local/lib/python3.7/site-packages (from aiohttp->-r requirements.txt (line 1)) (3.0.1)\n",
            "Requirement already satisfied: multidict<7.0,>=4.5 in /root/.local/lib/python3.7/site-packages (from aiohttp->-r requirements.txt (line 1)) (5.1.0)\n",
            "Requirement already satisfied: attrs>=17.3.0 in /usr/local/lib/python3.7/dist-packages (from aiohttp->-r requirements.txt (line 1)) (21.2.0)\n",
            "Requirement already satisfied: yarl<2.0,>=1.0 in /root/.local/lib/python3.7/site-packages (from aiohttp->-r requirements.txt (line 1)) (1.6.3)\n",
            "Requirement already satisfied: pycares>=4.0.0 in /root/.local/lib/python3.7/site-packages (from aiodns->-r requirements.txt (line 2)) (4.0.0)\n",
            "Requirement already satisfied: urllib3<2,>=1.21.1 in /usr/local/lib/python3.7/dist-packages (from elasticsearch->-r requirements.txt (line 6)) (1.24.3)\n",
            "Requirement already satisfied: certifi in /usr/local/lib/python3.7/dist-packages (from elasticsearch->-r requirements.txt (line 6)) (2021.5.30)\n",
            "Requirement already satisfied: pytz>=2017.2 in /usr/local/lib/python3.7/dist-packages (from pandas>=0.23.0->-r requirements.txt (line 8)) (2018.9)\n",
            "Requirement already satisfied: python-dateutil>=2.7.3 in /usr/local/lib/python3.7/dist-packages (from pandas>=0.23.0->-r requirements.txt (line 8)) (2.8.1)\n",
            "Requirement already satisfied: numpy>=1.15.4 in /usr/local/lib/python3.7/dist-packages (from pandas>=0.23.0->-r requirements.txt (line 8)) (1.19.5)\n",
            "Requirement already satisfied: geographiclib<2,>=1.49 in /usr/local/lib/python3.7/dist-packages (from geopy->-r requirements.txt (line 11)) (1.50)\n",
            "Requirement already satisfied: requests in /usr/local/lib/python3.7/dist-packages (from googletransx->-r requirements.txt (line 13)) (2.23.0)\n",
            "Requirement already satisfied: idna>=2.0 in /usr/local/lib/python3.7/dist-packages (from yarl<2.0,>=1.0->aiohttp->-r requirements.txt (line 1)) (2.10)\n",
            "Requirement already satisfied: cffi>=1.5.0 in /usr/local/lib/python3.7/dist-packages (from pycares>=4.0.0->aiodns->-r requirements.txt (line 2)) (1.14.5)\n",
            "Requirement already satisfied: six>=1.5 in /usr/local/lib/python3.7/dist-packages (from python-dateutil>=2.7.3->pandas>=0.23.0->-r requirements.txt (line 8)) (1.15.0)\n",
            "Requirement already satisfied: pycparser in /usr/local/lib/python3.7/dist-packages (from cffi>=1.5.0->pycares>=4.0.0->aiodns->-r requirements.txt (line 2)) (2.20)\n",
            "Building wheels for collected packages: twint\n",
            "  Building wheel for twint (setup.py) ... \u001b[?25l\u001b[?25hdone\n",
            "  Created wheel for twint: filename=twint-2.1.21-cp37-none-any.whl size=38872 sha256=23ab12548dfee540b06b6e5f592e8ce8d58d05f3aeb64fefa3b57894f987911f\n",
            "  Stored in directory: /tmp/pip-ephem-wheel-cache-ze6rmj_u/wheels/c9/bb/bd/2b559954ecc4f4905266df71e9f2e08268750df0fa1ec1a4d2\n",
            "Successfully built twint\n",
            "Installing collected packages: twint\n",
            "  Found existing installation: twint 2.1.21\n",
            "    Uninstalling twint-2.1.21:\n",
            "      Successfully uninstalled twint-2.1.21\n",
            "Successfully installed twint-2.1.21\n"
          ],
          "name": "stdout"
        }
      ]
    },
    {
      "cell_type": "code",
      "metadata": {
        "id": "uQ_vUu8ey7gX"
      },
      "source": [
        "import pandas as pd # you need pandas if you want to export results to pandas dataframe and to .csv\n",
        "import twint\n",
        "# Solve compatibility issues with notebooks and RunTime errors\n",
        "import nest_asyncio\n",
        "nest_asyncio.apply()\n"
      ],
      "execution_count": 2,
      "outputs": []
    },
    {
      "cell_type": "code",
      "metadata": {
        "id": "6-6d7OX-zNhM"
      },
      "source": [
        "def get_tweets(search, since, until):\n",
        "    c = twint.Config() # innitialize twint\n",
        "    c.Search = search\n",
        "    print(search)\n",
        "    c.Since = since\n",
        "    c.Until = until\n",
        "    c.Geo = '9.081999, 8.675277, 550km' # coordinates for central Nigeria and 550km radius around the center; you can remove this part completely or use different search coordinates \n",
        "    c.Show_hashtags = True\n",
        "    c.Count = True\n",
        "    c.Lowercase = True\n",
        "    c.Filter_retweets = True # True if you only want original tweets without retweets\n",
        "    c.Pandas = True # enable exporting to pandas\n",
        "    twint.run.Search(c) # start scraping\n",
        "    Tweets_df = twint.storage.panda.Tweets_df # save to pandas\n",
        "    Tweets_df.to_csv(f'{search}.csv') # export pandas dataframe to csv and name the file after it's search term"
      ],
      "execution_count": 3,
      "outputs": []
    },
    {
      "cell_type": "code",
      "metadata": {
        "id": "qAL_at1jAOCU"
      },
      "source": [
        "glossary=[\"GBV\", \"consent\", \"rape\"]"
      ],
      "execution_count": 5,
      "outputs": []
    },
    {
      "cell_type": "code",
      "metadata": {
        "colab": {
          "base_uri": "https://localhost:8080/"
        },
        "id": "ykRrErHqzdQ0",
        "outputId": "cacc95bf-46bc-4325-f210-74cda37fc268"
      },
      "source": [
        "[get_tweets(i, '2021-05-01', '2021-06-01') for i in glossary]"
      ],
      "execution_count": 6,
      "outputs": [
        {
          "output_type": "stream",
          "text": [
            "GBV\n",
            "1399136403406077954 2021-05-30 22:51:27 +0000 <eCAPH2> Women group have also reiterate that husband and other community members will not longer be able allowed to downplay GBV cases in the community no matter how it will affect them.  https://t.co/2IWos6uUlE \n",
            "1399136323315904515 2021-05-30 22:51:08 +0000 <eCAPH2> Religious &amp; traditional leaders have contributed immensely and we're committed towards ensuring Justice for all survivors of GBV irrespective of the status or relationship with offenders, a short drama was presented by young people on Communities based response @UnfpaK @KAD_PBC  https://t.co/xV2eBLx28T \n",
            "1399136212628258821 2021-05-30 22:50:42 +0000 <eCAPH2> Today our team is at Badiko Community for community sensitization on GBV, SRH, HIV and COVID19, the sensitization brought together community leaders, young people, and policy implementers at Community level where we discussed way forward toward coordinated response to GBV cases  https://t.co/WtOt4FaI79 \n",
            "1399121490235244544 2021-05-30 21:52:12 +0000 <ShittuVictoria> IFUMSA Health Week #IHW #GBV  Radio program tomorrow! Public Lecture on Tuesday! Articine on Friday! Dinner on Saturday!  #IHW #GBV  https://t.co/LXDNebWUUd IHW,GBV,IHW,GBV\n",
            "1398699888364425221 2021-05-29 17:56:54 +0000 <KDHSSD> On Gender-based Violence and Social Inclusion, we have achieved a number of milestones that we are proud of. Survivors of GBV have better chances of getting dignified services and shelter. The reporting and referral pathway for GBV in the State has been made seamless.  https://t.co/ZNUxq8UYGS \n",
            "1398652060363546624 2021-05-29 14:46:51 +0000 <eCAPH2> Group of young people present a short drama on how Communities will work together with health care police, traditional leaders and communities based policy makers  to posuer Justice for GBV related case, Thank you @MariamaDarboe18 @ullamuller @UNFPANigeria  @riseupforgirls  https://t.co/CwbTIfFVoQ \n",
            "1398297733396639758 2021-05-28 15:18:53 +0000 <Unbroken_GBV> Sex Trafficking has become a menace in our society that many are beginning to think it a means of survival.  No one should be allowed to go through such inhumane act amongst other forms of human trafficking.Tune in to 107.7 Abuja today 8pm @nidcom_gov @naptipnigeria @USinNigeria  https://t.co/GnBNyT8CA9 \n",
            "1398284165498519562 2021-05-28 14:24:58 +0000 <SuzzyUnique> @UN_Women , we ask you to advocate and support the millions of women in #Nigeria with no access to women’s hygiene products and specially those affected by GBV on #MenstrualHygieneDay2021 Nigeria,MenstrualHygieneDay2021\n",
            "1398167616812900352 2021-05-28 06:41:51 +0000 <Unbroken_GBV> @SirUTI In a way i agree with you. An ordinary or religious mind will never understand or agree with. But i would really love you to speak more about your postion on surrogacy. Pls see your DM for an invitation \n",
            "1397890648620122121 2021-05-27 12:21:16 +0000 <Chri_oauife> CHRI X IFUMSA 💃🏾💃🏾  #IHW'21 #genderbasedviolence #GBV  https://t.co/p6WhWdFBdC IHW,genderbasedviolence,GBV\n",
            "1396726170398478336 2021-05-24 07:14:03 +0000 <_CharlesUcheESQ> Thanks for the insights and sharing a little of your experience.   Proper education &amp; continued mentorship of the boy child is crucial in mitigating GBV.  Likewise the girl child - because a young rightly pointed out, many would not know when they're being harassed or assaulted. \n",
            "1395077509973217283 2021-05-19 18:02:52 +0000 <PhilipYatai> Receiving a gift from @MariamaDarboe18, Programme Coordinator and Head of Office, @UNFPANigeria Decentralized Office, at the end of a 5-day training of trainers on Mental Health and Psychosocial Support for GBV Survivors amidst COVID-19 and insecurity held in Kaduna. @KubsyP  https://t.co/JEjNfSdFAH \n",
            "1394662980164505607 2021-05-18 14:35:40 +0000 <genotypeF> Are you seeking access to CSOs &amp; GBV service providers closest to you in Lagos state? Genotype Foundation has been accredited as an  organisations that report cases  @ReportGBVng   Contact no.+2347033069721 \n",
            "1394285929502810117 2021-05-17 13:37:24 +0000 <Unbroken_GBV> PROMO!!! FROM May 10th-June 20th 2021 BRIXTON FUMIGATION &amp; PESTS CONTROL SERVICES will be offerin Fumigation services 4 HOMES, SCHOOLS, OFFICES,STORE,CHURCHES, MOSQUES,RESTAURANTS, SPARS, GYM, SUPERMARKETS, BAR @ N25,000 ONLY WIT AMAC CERTIFICATE Contact 08187274284  T &amp; C Apply.  https://t.co/71xDTfXyPX \n",
            "1392930008063168513 2021-05-13 19:49:27 +0000 <Unbroken_GBV> Happy Eid-Al-Fitr to all our Muslim brothers and sisters. May this special occasion bring abundant blessings and happiness upon you and your home and May you enjoy the benefit of the sacrifices you’ve made. Eid Mubarak.  https://t.co/wQ2PWs8TzD \n",
            "1392088782145572866 2021-05-11 12:06:44 +0000 <minah_emmanuel> You mistakenly took a bag that contains gov't stolen $100 million. As a good citizen, what will you do?  I still stand against all forms of #GBV especially amongst women and girls @LadyGrasha @BasseyAdek @Inyangsa @royalmakky1 @ELMumbuAbubakar @blessingewa1 @tinuola_oladejo  https://t.co/yg9HKSuMSH GBV\n",
            "1391054694651473924 2021-05-08 15:37:38 +0000 <Unbroken_GBV> Watch us live on Instagram @Unbroken.gbv  You can listen to the show anywhere in the world by downloading the Radio App using the link below 👇👇👇👇👇👇👇  https://t.co/1xgpAzixtA  https://t.co/8vF69mKqQX \n",
            "1391029195397025803 2021-05-08 13:56:18 +0000 <Opetuyii> Ekiti State Governor, Dr. @kfayemi received in audience a delegation from  @NgScienceAcad led by their President, Prof. Ekanem Ikpi Braide and Ekiti State GBV Management Committee led by the Chairperson, Erelu @bisiafayemi at the Governor’s Office, Ado Ekiti. 6th May, 2021  https://t.co/6er4Q2BF51 \n",
            "1390942648387637248 2021-05-08 08:12:24 +0000 <PhilipYatai> The Kaduna State Government with support from @UNFPANigeria is deepening actions to address GBV in the state. @UnfpaK @KDHSSD @HafsatMohBaba @ullamuller @KorieUNFPA @erika_goldson @Atayeshe  @ab_zubaida @hadizaumar20021 @MariamaDarboe18 @mabinguengom1   https://t.co/Mk1wB6WQHg \n",
            "1390731848091934722 2021-05-07 18:14:45 +0000 <Unbroken_GBV> Unbroken is a Radio show dedicated to fight against Gender Based Violence against Persons. Unbroken airs live 8pm every Friday on All Armed Force Radio Service 107.7fm Abuja. Facebook @Unbroken.GBV Intagram @Unbroken.gbv Twitter @Unbroken_GBV YouTube @Unbroken With Bolanley  https://t.co/TnMOFRVYEO \n",
            "1390669062800293888 2021-05-07 14:05:16 +0000 <HAAF_se> It is going to be interested, you can’t afford to miss this session with @AjusIbraheem GBV Activist \n",
            "1390645539893616640 2021-05-07 12:31:48 +0000 <Unbroken_GBV> Am coming back today with an Islamic Claric, to tell us how Islam view domestic Violence. Join me 8pm this evening on 107.7fm Abuja.  Unbroken With Bolanley @FIBGender  @UN_Women @WARIF_NG @hrw @naptipnigeria @DGNaptip @nwaorakwue @NhrcNigeria @FidaAbuja @theLolaOmolola @UtomiPat  https://t.co/fwltFVJ6QR \n",
            "1390189192630706176 2021-05-06 06:18:26 +0000 <oapaynigeria> -Taking the conversation about RAPE to the younger generation. -Disabusing their minds about the culture of Abuse &amp; Silence. -Educating them about the existing GBV Laws &amp; provisions of @ekitistategov  -Linking them up to strong links for psycho-social support.  #SayNoToRape  https://t.co/FATXRuNYNO SayNoToRape\n",
            "1389664822384644100 2021-05-04 19:34:47 +0000 <mobkimarkus7> Save the Girl Child, support 🖐️ the eradication of Gender Based Violence in Bauchi State. #implementVAPPLawBauchi #GBV  @IfwydNg @UNFPANigeria @UNFPA  @SenBalaMohammed  @Fistula_Fdtn @ullamuller @PaulineKTallen  https://t.co/tElJDKMTS6 implementVAPPLawBauchi,GBV\n",
            "1389549610184622085 2021-05-04 11:56:58 +0000 <amilordi> There is no excuse! Access to services for GBV survivors in Nigeria. #YSMANG @SpotlightIniti2 @UNFPANigeria @UNFPA  @unwomenNG  @youthhubafrica @EVA_Nigeria  https://t.co/UjoF9WW7sX  https://t.co/Ag48c4J9bA YSMANG\n",
            "1389546701803900932 2021-05-04 11:45:24 +0000 <ISMPHNG> International Day of the Midwife 2021  Theme: Access to Services for GBV Survivors in Nigeria: A Call to Action  “The media, as the gatekeeper is the force majeur to stopping SGBV is a crime against our collective dignity and consciousness “_ @MakanjuolaMoji  https://t.co/r5NU30uwbu \n",
            "1389531695267844098 2021-05-04 10:45:47 +0000 <egorp_e> @JasonMc08352085 @kinkywuby @ehigbaithegreat Yeah, categorizing the type of GBV is a deeper discussn to have. But tracking the prevalence of it in a broad sense is what this is abt &amp; it is already looking very bad! Reason is, majority of those who can engage in any form of molestation, if given the opportunity, can graduate \n",
            "1389321949839564807 2021-05-03 20:52:19 +0000 <StonesLegendary> All perpetrators of Gender Based Violence should properly prosecuted to curtail GBV  #ImplementVAPPLawBauchi  #EndGBV @IfwydNg @UNFPANigeria @UNFPA @UN_Women @UNICEF_Nigeria @Fistula_Fdtn @Gimbiya_Amina @mm_elisha @adun_birsan @Zarahbb @FatimaYahayaMu1 @EngrJamil9  https://t.co/IH9l8iewqL ImplementVAPPLawBauchi,EndGBV\n",
            "1389183680023830528 2021-05-03 11:42:53 +0000 <egorp_e> @kinkywuby This is a really big problem! WHO gave the global statistics of 1 in 3 women who have experience GBV. Frankly, I think in LMICs, the actual statistics is very scary. It could be well over 80%; as high as the poverty/socioeconomic, institutional failure &amp; impunity combined. Crazy! \n",
            "1388936153202577409 2021-05-02 19:19:18 +0000 <elhadj_pablo> Now yall are quick to relate GBV  to patriacy jokes..  Na here all of us dey when some female dey say they will be posting  men are scum posts while being with their own men cos na cruise dem dey catch...  Yall arent consistent abeg \n",
            "1388892437607821326 2021-05-02 16:25:36 +0000 <StonesLegendary> Its so inhuman abusing a woman simply because they are females. An abuse to a woman is an abuse to humanity.SAY NO TO GBV #ImplementVAPPLawBauchi  #EndGBV @IfwydNg @UNFPANigeria @UNFPA @KorieUNFPA @Gimbiya_Amina @mm_elisha @Fistula_Fdtn @unwomenNG @UN_Women @DONJAZZ @adun_birsan  https://t.co/VfAURlrCOO ImplementVAPPLawBauchi,EndGBV\n",
            "1388834489753866242 2021-05-02 12:35:20 +0000 <mobkimarkus7> #implementVAPPLawBauchi  @stop_gbv  @ifwyd @unfpanigeria @unfpa  @senbalamohammed  @unwomen @ Bauchi  https://t.co/kfhHWcjQvD implementVAPPLawBauchi\n",
            "1388787387694731266 2021-05-02 09:28:10 +0000 <GoberuIt> ALLAH YAKARAMAKU LAFIYA DA JINDADI DA KARIN NISAN KWANA. @MariyaATambuwal  @TambuwalAW  @NGWA_GBV  https://t.co/GuJC7UYoC1 \n",
            "1388461532044988420 2021-05-01 11:53:20 +0000 <StonesLegendary> We stand against all forms of GBV and advocate for a society free of GBV.  #ImplementVAPPLawBauchi #EndGBV @UNFPANigeria @UNFPA @IfwydNg @UN_Women   @Fistula_Fdtn @Gimbiya_Amina @mm_elisha @KorieUNFPA @Zarahbb @Sabina03487251 @adun_birsan @EngrJamil9  https://t.co/NOKNXhhJgw ImplementVAPPLawBauchi,EndGBV\n",
            "1388443066344910849 2021-05-01 10:39:57 +0000 <Inyangsa> It's not over until it's completely over. We will not relent our efforts on the fight against GBV until its is completely eradicated.  So why not join up as we orange the world come 4th May 2021. @FoundationTft @StandtoEndRape @GlobalSpotlight @UNFPANigeria @GirlEgi @ESLYICentre \n",
            "[!] No more data! Scraping will stop now.\n",
            "found 0 deleted tweets in this search.\n",
            "[+] Finished: Successfully collected 35 Tweets.\n",
            "consent\n",
            "1399146056923947008 2021-05-30 23:29:49 +0000 <Abdool_Sambo> @sokeza @DodoMismail @ankaboy @Abou_Sidra_ @MalcolmAlkalee @Zeemarh3 @masaqa921 @abdul_donjay @SadeekAbdullah1 @Umm_Haidar @daddy_anka Special Treatment how? Date changed without our consent due to a silly football game, we must not talk abi There is a group we dunno about it again, na there dem dey communicate 😂 \n",
            "1398918796245618691 2021-05-30 08:26:46 +0000 <ClearRealtor> TITLE: C of O &amp; Governor's consent  LOCATION: Watchtower road, Bogije, Lagos.  UNITS: 3 bedroom terrace duplex with a BQ for 37million. 2 bedroom terrace duplex for 26million.  INITIAL deposit of 5million.   LANDMARKS: - Lakowe golf course - Foodilicious Restaurant \n",
            "1398913360691970049 2021-05-30 08:05:10 +0000 <NeduObidike> Oh ye heathens, if you relate me to any thing Arsenal without my consent - you won't my consent IJMN - Ogun go kee your papa.  So... Protect your papa 😑😑😑😑 \n",
            "1398769150420529158 2021-05-29 22:32:07 +0000 <AGuyLikeOdims> Is Koeman different from Tata Martino? Why do you want us to give koeman more time and why wasn't Tata given more time? Mind you Tata Martino resigned more his role as coach by mutual consent tho he had 1 season left on his contract. \n",
            "1398675883712561164 2021-05-29 16:21:31 +0000 <heykins32> @gbemy01 Direct BRIEF: 32room hotel in gra ikeja for sale FEATURES  200 capacity hall  Lounges  Bar 5 offices Swimming pool  Gym Restaurant Lamd size 4000m2 (an acre plus) Title governor consent  Price 3.5billion naira Chat/call 08026064118  https://t.co/rmZbL7gpIo \n",
            "1398675572390248450 2021-05-29 16:20:17 +0000 <heykins32> @KhadijahEsq Direct BRIEF: 32room hotel in gra ikeja for sale FEATURES  200 capacity hall  Lounges  Bar 5 offices Swimming pool  Gym Restaurant Lamd size 4000m2 (an acre plus) Title governor consent  Price 3.5billion naira Chat/call 08026064118  https://t.co/rmZbL7gpIo \n",
            "1398675242650849281 2021-05-29 16:18:58 +0000 <heykins32> Direct BRIEF: 32room hotel in gra ikeja for sale FEATURES  200 capacity hall  Lounges  Bar 5 offices Swimming pool  Gym Restaurant Lamd size 4000m2 (an acre plus) Title governor consent  Price 3.5billion naira Chat/call 08026064118  https://t.co/rmZbL7gpIo \n",
            "1398662798436192261 2021-05-29 15:29:31 +0000 <nasbella2012> @Queenyetty1_ @ifycraines Didn't imply you were. I'm just letting you know that the acceptance of a bride price is the consent from bride's family. The prices aren't always fixed and are negotiated till both families agree. If they agreed on 150k,that ought hv bn paid b4 their church wedding. \n",
            "1398660546342313987 2021-05-29 15:20:34 +0000 <nasbella2012> @ifycraines @Queenyetty1_ Something is not adding up. An Igbo marriage is completed at the payment of bride price after which the couple can fix their church marriage. Either there is no consent or there is a family feud. \n",
            "1398632848475803650 2021-05-29 13:30:31 +0000 <iamlasbrey> Romantic till she creates a Twitter thread of how u forcefully shoved her tongue down her throat without her consent \n",
            "1398589290024779782 2021-05-29 10:37:25 +0000 <MichaelOghale4> @timidakolo 🔥🔥 *HOT SALE*🔥🔥  *You asked for it, it's now available!!!*  👉🏿 5 plots of dry  land 👉🏿 Directly opposite Dangote refinery / Jetty,  Ibeju-lekki. 👉🏿 With Governors consent. 👉🏿 Standard plot size. 👉🏿 N20M net  per plot.  📌Very good for commercial purposes; Hotel, warehouse,  https://t.co/26c3pik0jZ \n",
            "1398589271863402497 2021-05-29 10:37:21 +0000 <MichaelOghale4> 🔥🔥 *HOT SALE*🔥🔥  *You asked for it, it's now available!!!*  👉🏿 5 plots of dry  land 👉🏿 Directly opposite Dangote refinery / Jetty,  Ibeju-lekki. 👉🏿 With Governors consent. 👉🏿 Standard plot size. 👉🏿 N20M net  per plot.  📌Very good for commercial purposes; Hotel, warehouse,  https://t.co/dikbAGa8cB \n",
            "1398458834088304642 2021-05-29 01:59:02 +0000 <molaopeoluwa> @Acedouglas1 Esp when am angry  please don't take consent kiss me unexpectedly \n",
            "1398266512591540230 2021-05-28 13:14:49 +0000 <stevfhomes> *Still Available for sale*  2 units of Newly built 4bedroom semi detached duplex with a room BQ for sale off freedom way by prime water garden estate ikate, lekki.  Price: N108million  Title: Governor’s Consent   Call for details: 09057822735, 08104498598. #stevfhomes #housebuyer  https://t.co/PRO0eV1L1h stevfhomes,housebuyer\n",
            "1398234562044608518 2021-05-28 11:07:52 +0000 <kiwoville> 2) 1 and a half plot of land in Budo Pinnisula Estate by Abraham junction.  Documents: C/O and Governors Consent  Price 85m  Less than 3mins to Ajah bridge and it is in a well developed Estate #UCLFinal UCLFinal\n",
            "1398227125761609731 2021-05-28 10:38:19 +0000 <stevfhomes> *Still selling*   98% ready Newly built 3bedroom flat with a BQ at maryland for sale.... 4 units left.  Price: N55m  Title: Governor's Consent   Call for details: 09057822735, 08104498598. #stevfhomes  https://t.co/gWL5VUBpVv stevfhomes\n",
            "1398226976566087681 2021-05-28 10:37:43 +0000 <stevfhomes> *Still selling*   98% ready Newly built 3bedroom flat with a BQ at maryland for sale.... 4 units left.  Price: N55m  Title: Governor's Consent   Call for details: 09057822735, 08104498598. #stevfhomes @ Lagos, Nigeria  https://t.co/BknhmAUudD stevfhomes\n",
            "1398223373902221312 2021-05-28 10:23:24 +0000 <stevfhomes> *Now Selling @N280million per unit*  2 units of Newly built 5bedroom fully Detached Duplex with two (2) rooms BQ for sale at lekki phase 1.  Land size: 470sqm  Title: Governor’s Consent   Call for details: 09057822735, 08104498598. #stevfhomes  https://t.co/mi8A2komBi stevfhomes\n",
            "1398216334165561346 2021-05-28 09:55:26 +0000 <stevfhomes> FOR SALE  1654 sqm of dry land    Location: off ogombo, ajah, lagos in a develop area  with houses around  Price: 60million asking  Title: c of o deeds and consent Any interested buyer should contact: 09057822735, 08104498598. #stevfhomes  https://t.co/Thj7YQiktd stevfhomes\n",
            "1398214318487912448 2021-05-28 09:47:25 +0000 <stevfhomes> *Still selling* 6 units of specious serviced 3bedroom flat with a room BQ for sale at ikate, lekki phase 1.  Price: N65million per unit.  Title: Governor’s Consent For more information call/watapp:09057822735, 08104498598. #stevfhomes #housebuyers  https://t.co/dj6uG0OaFv stevfhomes,housebuyers\n",
            "1397662545364885504 2021-05-26 21:14:52 +0000 <MrIfiokEkpo> Fresh and magnificent ✨  For sale!!!   Newly built 4 Bedroom Terrace duplex  +bq nestled in a safe and secured estate.  Location: Lekki county, Ikota , lekki Title: Givernor's consent Price: #50M  *All rooms ensuite *2 large living rooms *Fitted bathrooms *Shower cubicle  https://t.co/vqPqXd8sOS 50M\n",
            "1397649821968879622 2021-05-26 20:24:19 +0000 <c_kels10> BREAKING: Antonio Conte has left Inter Milan by mutual consent  https://t.co/GpaH7kwEpj \n",
            "1397632310292500483 2021-05-26 19:14:44 +0000 <ClearRealtor> TITLE : C of O &amp; Governor's consent   LOCATION:. Watchtower road, Bogije.Lagos.   UNITS : 3 bedroom terrace duplex with a BQ for 37million.   2 bedroom terrace duplex for 26million. INITIAL deposit of 5million.   LANDMARKS: - Lakowe golf course \n",
            "1397614322420002816 2021-05-26 18:03:15 +0000 <Deola_Adeniyi> Can @GloWorld  please explain why they shared my contact with @touchandpayme for this Cowry Card thing? Like, is that bad that My consent is not even needed?   @NgComCommission @GloCare @TalktoLaswa   @TrafficChiefNG    #N200 N200\n",
            "1397612258797277184 2021-05-26 17:55:03 +0000 <theoluwaseunma> Antonio Conte leaves Inter Milan by mutual consent with Simone Inzaghi set to replace him  https://t.co/eOlt4SFndQ via @SkySports \n",
            "1397607126244241410 2021-05-26 17:34:39 +0000 <yungkay991> Conte left inter Milan by mutual consent ke \n",
            "1397606507009675266 2021-05-26 17:32:12 +0000 <Brilafm889> OFFICIAL: Inter Milan manager Antonio Conte has left the club by mutual consent.  It has been reported that Tottenham and Real Madrid could be the next destination of the Italian.  #brilafm #brilasports #InterMilan #Conte  https://t.co/gM8KUsyNyq brilafm,brilasports,InterMilan,Conte\n",
            "1397559266467360773 2021-05-26 14:24:29 +0000 <emoutisanders> What's all the fuzz about . Na today una dey see breast lift or any other plastic surgery. No be same thing wey Dr 90210 dey do? Same as Dr Nasir and Dr. Dubrow. The only issue na if e no seek consent before he post am. \n",
            "1397532545286352898 2021-05-26 12:38:18 +0000 <Khaligabi> @UsmanTukurAhma2 @yahfags1 @iam_dankaka The blame is evenly shared. Don't blame the guy when clearly everything was done with her consent. she's even sharing the tragedy on fucking tiktok. Abin bai mata zafi ba \n",
            "1397511154075832326 2021-05-26 11:13:18 +0000 <bigphylee> LOCATION* Atlantic Layout Estate, Abraham Adesanya Lekki Ajah *TITLE* Governors Consent  *PRICES*  2 bedroom apartments - N30,000,000 2 bedroom maisonette - N35,000,000 Payment spread of 12 months available with N5,000,000 Initial deposit.  IPhone Garba Shehu Niger Republic  https://t.co/TGZP2z3Kpq \n",
            "1397496537157099522 2021-05-26 10:15:13 +0000 <oj_wada> Two years ago, the permission of the registrar general wasn’t required to register an Incorporated trustee(NGO) But now, consent are pre conditions to register an IT. Things will keep changing. The earlier you register that business/organization, the better. \n",
            "1397477532316884993 2021-05-26 08:59:42 +0000 <Sarheedahcake> @ayturf_ @Maryerm_a_y She just felt like tweeting, she didnt seek her brains consent before she did \n",
            "1397279563403698182 2021-05-25 19:53:02 +0000 <OlaniyanHero> Almost done @neuralink... Reading my mind with my consent. \n",
            "1397223478953226243 2021-05-25 16:10:11 +0000 <RealLagosFinder> Fully Automated 5 Bedrooms Fully Detached Duplex with Pool, Cinema &amp; Gym for sale!  Location📍: Osapa Lekki   Price: N450m  Title📑: Governor's Consent  INSPECTION / PURCHASING CONTACT ON 07062223999 @TrafficChiefNG  @retweets_9ja @Lagos_Car_Plug @sachioproperty @imran_services  https://t.co/dRa6zM9Zp6 \n",
            "1397195340567257099 2021-05-25 14:18:22 +0000 <Nessas__Treats> I love it. Even with her consent, he didn’t rest his hand on her shoulder 👏 \n",
            "1397146284822208516 2021-05-25 11:03:26 +0000 <RealLagosFinder> 🇳​​​​​🇪​​​​​🇼​​​​​ 🇱​​​​​🇮​​​​​🇸​​​​​🇹​​​​​🇮​​​​​🇳​​​​​🇬​​​​​  Whales County Phase 2 is a redefinition of a comfortable home  Location: Orchid by Chevron Title: Governors Consent Price: N52M  INSPECTION / PURCHASING CONTACT ON 07062223999 @TrafficChiefNG @MabelAdewunmi  https://t.co/waebi1tXA0 \n",
            "1397107022391357448 2021-05-25 08:27:25 +0000 <Stephen_Echefu> Man guides a lady who discovered her neighbor tapped her electricity without her consent.  #StephenEchefuBlog  https://t.co/x7h0JlukpA StephenEchefuBlog\n",
            "1397076396674060290 2021-05-25 06:25:44 +0000 <Johnreal95> Own a unit of the 4 BEDROOM SEMIDETACHED DUPLEX at Rose Garden Estate Magboro, opposite prayer city( MFM).   Title: C of O &amp; Governors consent.   Take action today  John👉🏽 +2348156344210 or direct message.  #tuesdaymotivations  https://t.co/RaNXGUuzdo tuesdaymotivations\n",
            "1396844614380924931 2021-05-24 15:04:42 +0000 <MartinObi_> @sauceprinz Stealing is the act of taking someone's property without his/her consent or knowledge with the intention of depriving the owner of the use of that property.   As long as this is what transpired, it is stealing and there is no justification \n",
            "1396798960895942657 2021-05-24 12:03:18 +0000 <johnyny10> @Tiwa_ni @cwiss1 @_McOatt @TheLydiaLadej Asking or seeking for their consent does not equate them choosing a wife for you. \n",
            "1396669922684588033 2021-05-24 03:30:33 +0000 <MrIfiokEkpo> Newly built  switchless Smart 4Bedroom Terrace   *Fully Switchless Smart Home*   LOCATION: Along Orchid road Lekki  *Title:* Governor's Consent   *Features:*  https://t.co/jXquty759H \n",
            "1396498889537204227 2021-05-23 16:10:55 +0000 <aikmamah> @ConnectOnitsha *Disclaimer:  Consent is required!! \n",
            "1396463347160256514 2021-05-23 13:49:41 +0000 <thehassanian> @taxfeeq Ehnnnn Consent fee na 5% \n",
            "1396409416598147074 2021-05-23 10:15:23 +0000 <Olabamijiakande> Yes wife her without her parents’ consent 🤡 \n",
            "1396371474672402432 2021-05-23 07:44:37 +0000 <elhadj_pablo> consent is, difference here ma \n",
            "1396090772051615746 2021-05-22 13:09:12 +0000 <kingwen_ww> The King🤴🏾 is back🦅 Don't need none of y'all \"Consent\" to freestyle😊😊  https://t.co/qsq0SW8Lr3 \n",
            "1396051527626805248 2021-05-22 10:33:16 +0000 <magnetvikki> Baba saved my name as beneficiary for a long time now. How sir? He said his close banker friend gave him my number.  I want to know the banker that will give my number without my consent in this country that there's no security.  What happened to them calling me first?  https://t.co/SGLpTQA0PA \n",
            "1395680564515000320 2021-05-21 09:59:11 +0000 <iam_popekhalifa> if I like the tweet you'd prolly think I consent to it...or I have the same perspective as you... \n",
            "1395472573429858312 2021-05-20 20:12:42 +0000 <AghasHomes> 5 bedroom fully detached duplex at Idado. Title is Governors consent. Going for N130m.  Tel/DM-09153499321 📮Twitter:@AghasHomes 📭Facebook: Aghas homes  📩LinkedIn: Aghas Homes  #AJEbyDJBigNisComing ||#N100 || Okafor || Phil Jones #Happivibe  https://t.co/YmeNEJ0Hyv AJEbyDJBigNisComing,N100,Happivibe\n",
            "1395325465359962113 2021-05-20 10:28:09 +0000 <Chim_amakaa> @Letter_to_Jack @Jibsman1 @NenyeChelsea @ChelseaFC Did you seek her consent? I hope she sues you for pushing her to a club that's against her own will. 🤪🤪🤪🤪🤪🤪 \n",
            "1395311216311083021 2021-05-20 09:31:32 +0000 <Childmindng> 👉🏽Consent is an audible yes from intending partner who has attained the official age of consent and is not under any influence of drugs, alcohol or coercion and backed with appropriate body language  #childmindng #mentalhealth #childrensmentalhealthmatters #childsexualabuseaware  https://t.co/453EujQRJm childmindng,mentalhealth,childrensmentalhealthmatters,childsexualabuseaware\n",
            "1395283762057973767 2021-05-20 07:42:26 +0000 <akwa2> Nobody takes you for a fool without your consent. \n",
            "1395283622538752001 2021-05-20 07:41:53 +0000 <akwa2> Nobody takes you for a fool without your consent. \n",
            "1395051396551094273 2021-05-19 16:19:06 +0000 <Mifaunuagbo> Nothing is sexier than consent. Shit. The panning. The anticipation. And then NePa will off light. Bastards. \n",
            "1395050289846235137 2021-05-19 16:14:42 +0000 <Dayo19457786> @NirsalMFB My loan was approved but was rejected without my consent. Pls what caused this? \n",
            "1394974106370588672 2021-05-19 11:11:58 +0000 <Pahpee> It's called Consent... \n",
            "1394963390481772544 2021-05-19 10:29:24 +0000 <aleeyu786>  https://t.co/vhFr8Oicmi  Sex Education In The Northern Nigeria...  Safe sex Birth control Age of consent Sexual abstinence \n",
            "1394958322625884160 2021-05-19 10:09:15 +0000 <aleeyu786> Safe sex Birth control Age of consent Sexual abstinence \n",
            "1394937568991535109 2021-05-19 08:46:47 +0000 <Childmindng> Question of the week.   What is consent?   #JoinTheConversation #donate #childrensmentalhealthmatters #childmindng #childrensmentalhealthawareness #mentalhealth #mentalhealthawareness  #parenting #childsexualabuseawareness #NGOs  https://t.co/auD5pOAorK JoinTheConversation,donate,childrensmentalhealthmatters,childmindng,childrensmentalhealthawareness,mentalhealth,mentalhealthawareness,parenting,childsexualabuseawareness,NGOs\n",
            "1394930804527140868 2021-05-19 08:19:55 +0000 <AYJJ16> ÀBÀTÀ CONSENT 🎥  https://t.co/7kaAJGhaOE \n",
            "1394913965294116864 2021-05-19 07:13:00 +0000 <DuchessHomesDCL> BRAND NEW ESTATE ALERT 📢  LAGOON VIEW ESTATE MAKOKO YABA LAGOS  - 2Bedroom Flat = N22m (Fully Finished) - 4Bedroom Maisonette + BQ = N45m (Semi-Finished) N55m (Finished)  Deposit = 30%  TITLE: Governor's Consent  Call Or DM Us. #realestate #construction #housing #DuchessHomesDCL  https://t.co/kemE6KgZgy realestate,construction,housing,DuchessHomesDCL\n",
            "1394740151910273028 2021-05-18 19:42:19 +0000 <a_patere> LOCATION: Lekki Pearl Garden Abijo, behind Oando Fuel Station off Lekki Epe Expressway.  TITLE: Governor's Consent \n",
            "1394604205579644930 2021-05-18 10:42:07 +0000 <JoshuaKehindeI1> A fully finished 3bedroom bungalow for sale!  Location: Bogije Lagos  Price: N33m  Title: Governor’s consent  Status: Fully detached in a serene and secured estate!  Call us on : 07068004320 @ Bogije,Ibeju Lekki LGA  https://t.co/Jo4kfm4gqJ \n",
            "1394559852094103552 2021-05-18 07:45:53 +0000 <Dskyrockets> Toxic masculinity exists simply because men who believe women should seek their consent before making critical decisions in a relationship are not willing to portray leadership qualities, potentials or tendencies but yet still they get angry when their partner doesn't trust them \n",
            "1394348184210743296 2021-05-17 17:44:47 +0000 <ecmbah> Consent can only be obtained before initiating sex. There's no objective proof of withdrawn consent midway. In fact no court will entertain that. \n",
            "1394306997919551491 2021-05-17 15:01:07 +0000 <Honey_mathias> #FOR SALE,  #BRAND NEW;  3BEDROOM TERRACE DUPLEX, with BQ  #TITTLE: GOVERNOR'S CONSENT  LOCATION:  OPPOSITE LAGOS BUSINESS SCHOOL (3minute walking distance from Lagos Business School) Sangotedo.  PRICE: N40m   #TITLE 08137968534 FOR,BRAND,TITTLE,TITLE\n",
            "1394245262957232131 2021-05-17 10:55:49 +0000 <4DNaked> @jighere @is_salsu Advice is a moral admonition while consent is asking for permission \n",
            "1394239237776609284 2021-05-17 10:31:52 +0000 <4DNaked> @jighere @is_salsu Baba advice and consent no be the same abeg \n",
            "1394232708239331328 2021-05-17 10:05:55 +0000 <Childmindng> Consent is active, bold and clear.  #childmindng #sexeducation #mentalhealth #childrensmentalhealthmatters #childsexualabuseawareness #childrensmentalhealth #parenting #mentalhealthmatters  https://t.co/CufKDNtzzj childmindng,sexeducation,mentalhealth,childrensmentalhealthmatters,childsexualabuseawareness,childrensmentalhealth,parenting,mentalhealthmatters\n",
            "1394088206845493248 2021-05-17 00:31:44 +0000 <ANHRealtors> Developers Delight  Are you a Real Estate Developer, Seeking land in the Chevron corridor?  Here you have it!  Location: Orchid Road, Chevron   Title: Governor's Consent   Price: N52m /plot  Contact Madamlandseller 08061323225  #realestatedevelopment  https://t.co/RT63wAwAzv realestatedevelopment\n",
            "1394053877314605061 2021-05-16 22:15:19 +0000 <gabriel_eikwu> This o before person go withdraw consent after that. \n",
            "1393971716108472323 2021-05-16 16:48:50 +0000 <ayojibodu> I am not among the Nigerians who advised Gov Yahaya Bello to run fr Presidency. I hereby dissociate myself from his ambition. Silence means consent. I refuse to be silent. Nigeria belongs to us all and we nd our very best in 2023 not just some low budget, failure prone individual \n",
            "1393966545496387587 2021-05-16 16:28:17 +0000 <rebirth_mode> Save ₦5m now when you get any unit of our 2 bedroom luxury apartment in Ilasan, off Silverbird rd in Lekki.  Delivery Date: December 2021. Title: Governor's Consent Price: ₦40m❌, ₦35m ✅ (₦15m deposit). Tell someone to tell another about offer.  Call 07038127906, 08127725588  https://t.co/ViD0BSh8Ks \n",
            "1393953620740214798 2021-05-16 15:36:56 +0000 <Dskyrockets> The danger in being too emotionally attached to people we love is that what breaks them can break us too without our consent &amp; what hurts them can hurt us too no matter the amount of boundaries we set regarding our personal space \n",
            "1393838319684005893 2021-05-16 07:58:46 +0000 <el_Smallz> @gtbank Please return my money you people took since the 6th of May without my consent via transfer. 5k in these times is not something that can pass me unnoticed. Before I scatter your branch at Jabi tomorrow, please do the needful. I'm begging now 'cuz you'll beg me tomorrow! \n",
            "1393592072561700866 2021-05-15 15:40:16 +0000 <YungHusband_> If he removed condom without her consent, that's rape. \n",
            "1393551419379261440 2021-05-15 12:58:43 +0000 <NgoverIN> And I don’t believe that consent was granted but since that’s the story he would like us to believe, let’s continue on the wild goose chase. What sort of country are we living in? A murderer is allowed to sully the reputation of a young lady on the day of her funeral #ShameOnUs ShameOnUs\n",
            "1393551417621762048 2021-05-15 12:58:43 +0000 <NgoverIN> My take on the trending cock &amp; bull story - If consent is granted  ‘conditionally’ &amp; conditions under which said consent was granted are breached, then any action taken by the consenter to withdraw consent is lawful. Murdering the ‘consenter’ makes you the aggressor &amp; a murderer. \n",
            "1393481951110180865 2021-05-15 08:22:41 +0000 <Dare4xploits> @TemitopeOJT @channelstv Add me please, I can't remember giving my consent to him \n",
            "1393451814251544578 2021-05-15 06:22:56 +0000 <romanticmurja> @DrCrazyAF I know but you should have na. I made a special and rare request n u actually did consent to it😭😭😭 \n",
            "1393228337829527555 2021-05-14 15:34:55 +0000 <Elushize> @jespesseh He’s only trying to claim he didn’t rape her and she game him consent \n",
            "1393116699935772674 2021-05-14 08:11:18 +0000 <PIMO_D> Don't drive someone's vehicle without their consent. E get why!!!!  https://t.co/jz20kTCNu4 \n",
            "1393105879860400130 2021-05-14 07:28:19 +0000 <SoloPras> @biggraymee @Statesman_NG @starsrats @DavidHundeyin There’s nothing impossible when it comes to @PoliceNG. It once happened to me,my dad was assassinated n one of the hired killers lives around, a Good Samaritan followed him n he was arrested n taken to eleweran,there we were told he was killed by hanging without our consent smh \n",
            "1392573165025562624 2021-05-12 20:11:29 +0000 <SuleimanAO> @peng_writer Oh I see. But then she don sign consent form so🤷🏽‍♀️ \n",
            "1392549982742487040 2021-05-12 18:39:22 +0000 <SuleimanAO> @peng_writer Mind you I'm not saying a woman should do family planning without her husband's consent intact involvement at every level... In fact I'm always very happy whenever I see couples in clinic irrespective of what they are there for because I know our problem is half solved... \n",
            "1392522232992260102 2021-05-12 16:49:06 +0000 <SuleimanAO> @peng_writer Here the patient is an adult who consent to a procedure after which all the possible complications had been explained to her, if any problem arise she will be responsible for it. \n",
            "1392505632209711110 2021-05-12 15:43:08 +0000 <Sbdsng> @lollylarry1 @Turaki60 @skola_tunde No ma, it is not  But there's no contract btwn them and the guarantor in my own opinion  I had similar experience, what I did was to ask a Lawyer friend to reply them  I've not heard from them since last year  They are stupid to give out loan without the consent of the guarantor \n",
            "1392494991285555209 2021-05-12 15:00:51 +0000 <Nattie_Best> Even if the age of consent is raised to 40 years, you people will still be bitter and complain when you see 60 year old men hitting on 40 year olds. I don't understand the bitterness. Is she or is she not an adult? If so, why not let her make her own choices? \n",
            "1392417571480248321 2021-05-12 09:53:13 +0000 <Childmindng> Nuggets  👉🏽Consent must be active, bold and, clear.  👉🏽A child cannot give consent to a sexual act.  👉🏽Sexual assault is never the fault of the victim. #mentalhealthmatters #childrensmentalhealth #sexeducation #childmindng #childsexualabuseawareness #childrensmentalhealthmatters  https://t.co/A8MoZLTAaF mentalhealthmatters,childrensmentalhealth,sexeducation,childmindng,childsexualabuseawareness,childrensmentalhealthmatters\n",
            "1392403702124883969 2021-05-12 08:58:06 +0000 <okunsfem> @francisky9 @uweezy07 😂. It is  free world. If it is based on mutual consent you are good to go. \n",
            "1392146136971022340 2021-05-11 15:54:38 +0000 <elhadj_pablo> it will be interesting to see how @DSVRT defines consent both from the male and female point of view.. \n",
            "1392132702409736194 2021-05-11 15:01:15 +0000 <Mclawrenceco> @cartisbxtch Yeah, It's cool. With your consent or whatever. \n",
            "1392031156191780867 2021-05-11 08:17:44 +0000 <a_patere> Other side attractions at the ambiance is: -  Swimming pool - The gym  - The recreational arena - Well trained security guards - And constant power supply and lots more.💃💃  Title: Governor’s Consent  Location: Abraham Adesanya by Atlantic Layout Estate \n",
            "1391816689168359429 2021-05-10 18:05:32 +0000 <BaronHomes> Brand New 2 Bedroom Luxury  Apartment+Maid's Room in a decent,well secured Estate Sales Price: ₦55m Location: Ikate Elegushi,Lekki  Features: - All Rooms En-suite - Fully Fitted Kitchen Used for short let/Air b'n b - Ample parking space Title: Governor’s Consent ☎️ : 08124844919  https://t.co/mHD2dkNB9y \n",
            "1391778666624000001 2021-05-10 15:34:26 +0000 <IamC_stunning> No dey speak my mind without my consent o \n",
            "1391722157009514504 2021-05-10 11:49:53 +0000 <iyiolababafemi> @cacnigeria1 @Inspiredblessy Am so grateful that I got responded to for the first time. Please I also have about 3 RG consent pending \n",
            "1391702570557714442 2021-05-10 10:32:04 +0000 <DumebiofLagos> Please this is my statement of account oooo  The first transaction i made and I'm aware of is 500 naira and then on Friday i deposited 11k and they removed my money without my consent, please ooo world people come and fight for me ooo @paystack @sportybetng @lindaikeji  https://t.co/31GR8ezTAK \n",
            "1391659827588382722 2021-05-10 07:42:13 +0000 <a_patere> Other side attractions at the ambiance is: -  Swimming pool - The gym  - The recreational arena - Well trained security guards - And constant power supply and lots more.💃💃  Title: Governor’s Consent  Location: Abraham Adesanya by Atlantic Layout Estate \n",
            "1391533740049027075 2021-05-09 23:21:11 +0000 <tajham> I just heard that; last year my Mum and My Sisters bought Ramadan Basket 🧺 without my consent/knowledge, and took to my EX’s house, just now I remembered her thanking me I thought it was for the sub I do her that time, as I dey post this she dey hospital with her baby boy now. \n",
            "1391484459002863623 2021-05-09 20:05:22 +0000 <kevobrit> 5bedroom duplex for sale @ Berserk estate,  Chevron Lekki # 115million with Governor consent.  Call for inspection and sales 08034420718  https://t.co/UPefsZi4cT \n",
            "1391408738817425414 2021-05-09 15:04:29 +0000 <cath3nee> NEWLY BUILT 5 BEDROOM FULLY DETACHED TOWNHOUSE  Location📍:Ikate,Lekki  Price📌:140M($368k)  Title:Governor’s consent   Amenities : 2 floors 1Bedroom BQ Bluetooth speakers  Refrigerator  Oven  Microwave  Washing machine and Dryer Heat extractor  Gas  POP ceiling  https://t.co/cmom0XWlfA \n",
            "1391398391796707330 2021-05-09 14:23:22 +0000 <Koolthorpe> @Assimalhakeem can a divorced woman marry another man without the consent of her father? \n",
            "1390692190322581509 2021-05-07 15:37:10 +0000 <SaniDkoli> Is this possible to install a cellular Base Station in a residential area without the consent of neighbors? My question go to   @NgComCommission  @NITDANigeria @KashifuInuwa @DrIsaPantami @NESREANigeria @nesrea @UmarGarbaDanbatata  @adeoluakande @FMoCDENigeria  https://t.co/YVOVwRb7x7 \n",
            "1390627335733456898 2021-05-07 11:19:28 +0000 <softouchconsul1> For Sale!! 4 Bedroom Semi detached Duplex with Bq  Location: Ikota , Lagos. #75 Million Naira  Features: - All Rooms Ensuite - Fitted Kitchen - Interlocked Floor - Ample Parking Space - Pop Ceiling  - Water Heater - Water Treatment  - 24 Hours Security    Title: Governors Consent  https://t.co/UmuSId9aia \n",
            "1390603781063196672 2021-05-07 09:45:52 +0000 <Palsaccess> @cacnigeria1 @cixify @AbdulmuminOlay1 This reason for denial of consent baffles me. Please CAC should look into it because we want  to reapply for it. Consent was gotten on this same name and it's Newspaper publication done before it expired.  https://t.co/aa1Jdvj4im \n",
            "1390299615111434242 2021-05-06 13:37:13 +0000 <Sdutse> Consent is EVERYTHING.! \n",
            "1390228248752234496 2021-05-06 08:53:38 +0000 <muna_chims> 4 BEDROOM SEMIDETACHED DUPLEX    Price: ₦60m  Location: Ikota after Chevron.  Title: Governor's Consent  Features: ▪Newly Built  ▪Serviced Estate  ▪Spacious Unit ▪Jacuzzi in Masters Bedroom  ▪POP ▪Fitted Kitchen  ▪Family Lounge  ▪Water Treatment Plant   ▪Service Quater  https://t.co/ONAx9tse1i \n",
            "1390226975533506560 2021-05-06 08:48:34 +0000 <muna_chims> 4 BEDROOM DETACHED DUPLEX    Price: ₦120m  Location: Chevron.  Title: Governor's Consent  Features: ▪Newly Built  ▪Serviced Estate  ▪Spacious Unit ▪Jacuzzi in Masters Bedroom  ▪POP ▪Fitted Kitchen  ▪Family Lounge  ▪Water Treatment Plant   ▪Service Quater etc  https://t.co/runQWTc5x3 \n",
            "1390223765167120386 2021-05-06 08:35:49 +0000 <muna_chims> 4 BEDROOM SEMI-DETACHED DUPLEX   Price: ₦190m  Location: Cowrie Creek, Ikate. Title: Governor's Consent  Features: ▪Newly Built  ▪Serviced Estate  ▪Spacious Unit ▪CCTV  ▪Jacuzzi in Masters Bedroom  ▪POP ▪Fitted Kitchen  ▪Family Lounge  ▪Detailed Finishing  https://t.co/s5vArc7XdL \n",
            "1389925434054295553 2021-05-05 12:50:21 +0000 <chystarr_> FOR SALE:Spacious 5 Bedroom Detached Duplex with Maid's Room  PRICE: 170,000,000 LOCATION: Lekki Phase 1,  TITLE DOCUMENT: Governor's consent  •NEWLY BUILT •ROOFTOP LOUNGE  •WALKING CLOSET  •3 FAMILY LOUNGE Contact 09036291869 for more inquiries  #propertyforsale #explore  https://t.co/hBlI0KKorl propertyforsale,explore\n",
            "1389877595995623424 2021-05-05 09:40:16 +0000 <a_patere> NOW SELLING‼️   Newly built Switchless Smart  4 Bedroom Terrace without BQ  Location: BEN FLO STREET Along Orchid Orchid Hotel after Chevron Toll Gate Lekki Lagos.  Title: Governor's Consent  https://t.co/qV8ddDi5NM \n",
            "1389856132852817923 2021-05-05 08:14:59 +0000 <Lord_of_Saarl> @SirMhithi_ @MissSwanty And at the end there's a consent form and NDA and negotiation place.. \n",
            "1389738777296478210 2021-05-05 00:28:39 +0000 <EmmyUgwuoti> Be like say mtn dey on hotspot without my consent because i don't understand \n",
            "1389296933525762066 2021-05-03 19:12:55 +0000 <bintbaks> @nytimes Thinking of the ethical dimension of this whole charade, worried about the ability of the elderly folks to give authentic consent for her Tik Tok videos and story sharing in social media .The ethics of this who stuff should be evaluated to ensure no  exploitation \n",
            "1389259514483027971 2021-05-03 16:44:14 +0000 <mttw_page> Child sexual abuse in Nigeria is an offence under several sections of chapter 21 of the country's criminal code. The age of consent is 18.  UNICEF reported in 2015 that one in four girls and one in ten boys in Nigeria had experienced sexual violence before the age of 18.  https://t.co/HcnP0NYDzP \n",
            "1389235314087141380 2021-05-03 15:08:04 +0000 <kusakells> A Lovely 4 Bedroom Terrace at Lekki phase 1 going for 160M...   Title: Governor’s Consent   For Enquiries and Inspection Kindly Call  Oluwaseun: 08074664671 or 09068580536 📧: Oluwaseun.saidi@gmail.com  https://t.co/v70gNQgUwl \n",
            "1389116677066010625 2021-05-03 07:16:39 +0000 <PW_Alli> @SeyiOjeleye @Sleeksly2 Just to be clear, the law clearly states that: No person shall have sexual intercourse with a child. It goes further to state that it is immaterial that you believed the person to be of or above 18 or that the person gave consent. \n",
            "1389115826662481920 2021-05-03 07:13:16 +0000 <PW_Alli> @SeyiOjeleye @Sleeksly2 A child cannot give 'consent' to sex and according to the law, a person under the age of 18 is a child. So it does not have to be forced penetration, if you have sexual intercourse with a person below the age of 18, it is rape under the Child's Right Act. \n",
            "1389040178333945860 2021-05-03 02:12:40 +0000 <iamAbiodunAA> @Iamlyday1 Very very wrong. The person that recorded it said she never gave them her consent to release it. She’s suing Punch. \n",
            "1389001644822630404 2021-05-02 23:39:33 +0000 <I_Am_SyrUp> Revenue receipt?? Or consent fee receipt? 🤣🤣 \n",
            "1388993938636353537 2021-05-02 23:08:55 +0000 <zahrah_Shaku> Well, it sure didn't give its consent \n",
            "1388968407610109955 2021-05-02 21:27:28 +0000 <Sommmie__> @isaw_lulu @SavvyRinu It is/was/always will be rape. Consent was given and later withdrawn. If you do not understand this then I really do not wanna have a conversation with you, thanks. \n",
            "1388926637631229952 2021-05-02 18:41:30 +0000 <IkTravis> There is nothing as romantic or sweet as asking for her consent.  . . ❌ Rape ❌🚫 \n",
            "1388880692625477632 2021-05-02 15:38:55 +0000 <elhadj_pablo> Princess didn't give punch consent to publish the video!!!!  so who did and how did they get the video.. \n",
            "1388876214136360971 2021-05-02 15:21:08 +0000 <naomi_mim> Today protect women, Tomorrow someone will touch a woman without her consent and they’ll say she’s indecently dressed. \n",
            "1388875981776211969 2021-05-02 15:20:12 +0000 <Hannyrons> @DrOlufunmilayo Princess's consent wasn't sought and as such, PUNCH should be sued \n",
            "1388874433348132866 2021-05-02 15:14:03 +0000 <mideoflagos1> Even if she is a sex worker and you gang rape her! Taking turns without her consent! ....   God punish you!! \n",
            "1388851441314504715 2021-05-02 13:42:41 +0000 <hayormeday_t> Consent is obviously a problem with a lot of humans on this earth. \n",
            "1388818161798103042 2021-05-02 11:30:27 +0000 <Abolore53198963> @Gistloversblog1 Even after seeing the evidence one fool here said she was enjoying it and it was mutual consent btw the 2  God when the girl knows this was not his first time what did she no? \n",
            "1388800378658074625 2021-05-02 10:19:47 +0000 <Queencasper1st> Everyone is against rape Even the people that edited silhouette challenge videos to see people naked  #consent consent\n",
            "1388783032044228612 2021-05-02 09:10:51 +0000 <arverkarda2> @OEmmice @lifeof_diwura @EvansTed101 Sorry to say this but I think you should shut up and stop spilling garbage, any little struggle from that girl shows that she didn’t consent and I watched the video she struggled and moved aside, I personally feel you’re capable of rape with how you reason \n",
            "1388776406138736640 2021-05-02 08:44:32 +0000 <Ebiblosky> @OEmmice @EvansTed101 If you are not knowledgeable on something don't jump to comment about it in public. A minor cannot give consent. \n",
            "1388732500378275840 2021-05-02 05:50:04 +0000 <Jon3ro> Dear Men,  Kindness is not consent. \n",
            "1388612929939968000 2021-05-01 21:54:56 +0000 <Grace_Embodied> ✊Parents consent ✊Pastors blessing ✊Lots of pichos to show ppl that I'm married ✊Marriage certificate from a Nigerian court (just for going abroad reasons)   Those are all I need for \"wedding\".  My marriage will always be in the limelight cos its always going to inspire ppl.. \n",
            "1388607140290600962 2021-05-01 21:31:55 +0000 <Mr_genius01> How comes una go dey tell me sey an online transaction was made without my consent and i i no receive OTP??? @myaccessbank @accessbank_help which kind nonsense b dat? Wtf is dat? \n",
            "1388599820798111747 2021-05-01 21:02:50 +0000 <IdrisOAdesanya> When you get to power with no consent of masses, you don't have a whole lot of power. But when folks unite, when they stand together, in solidarity with you — that's real power. This way, we can stabilize our government &amp; commit to do all that we can to set the country straight. \n",
            "1388584848265199618 2021-05-01 20:03:21 +0000 <ericmorn> @Tomiwa_faleye Shall we begin??...something that you have started already without our consent \n",
            "1388441556617764869 2021-05-01 10:33:57 +0000 <anointed19> If she says know it's no, just give her a reason for regretting to saying No... Inspired by Joeboy _Consent_ \n",
            "1388415339722072064 2021-05-01 08:49:47 +0000 <Solgoodhomes> He is not a full man who does not own a piece of land. – Hebrew Proverb Are you a full man, or woman? Prove it to us; buy this piece of land in Divine Homes, Thomas Estate with the title, Governor's Consent at only 25M  Shikini money, right?! Yes! Call us today: 07063135622.  https://t.co/qGjb01R4rn \n",
            "1388398382482345985 2021-05-01 07:42:24 +0000 <simplyhabay_oni> You're on your own...no section of the constitution stated 11 as the age of consent \n",
            "[!] No more data! Scraping will stop now.\n",
            "found 0 deleted tweets in this search.\n",
            "[+] Finished: Successfully collected 140 Tweets.\n",
            "rape\n",
            "1399419110791041026 2021-05-31 17:34:50 +0000 <i_renedaniels> He’ll (Tiwa) rape you \n",
            "1399396784498151430 2021-05-31 16:06:07 +0000 <smile_kiddies> @d_reamz E din rape am🤣😂 \n",
            "1399366974136799232 2021-05-31 14:07:40 +0000 <AAbdur_Rohim> @RofiatTaiye @RufaiHafsat1 It's both ways either boyfriends/girlfriends.  It should be vibes based on mutual agreement, anything outside this it's a rape for me... \n",
            "1399361298723487749 2021-05-31 13:45:07 +0000 <solomonislands3> Ondo varsity students protest incessant rape, robbery attacks \n",
            "1399359464898285571 2021-05-31 13:37:49 +0000 <tolannie_> Rape? \n",
            "1399273691834368004 2021-05-31 07:57:00 +0000 <Comrade_alBarka> @Qarma_Kendricks I once dated a lady, she told me she lost her virginity when she was 13, that thieves came to their house in the midnight and rape only her and left.. I was so angry with the lady, saying why will a lady lie to me like this.. That was the end of our relationship 😂😂😂😂 \n",
            "1399270980401434624 2021-05-31 07:46:13 +0000 <Comrade_alBarka> No wonder many women claim they lose their virginity through rape..  If you come ask them who rape you, it a painful experience, that one na person name?😒😒😒 \n",
            "1399258183865094145 2021-05-31 06:55:22 +0000 <atsuwe_imoter> @NBiafranblood @OkezieLizzy @_cheemio @HQNigerianArmy They can do the arrest but I still disagree with the raping student bobo, @HQNigerianArmy won't rape students. \n",
            "1399250242764263424 2021-05-31 06:23:49 +0000 <abotimothy> Later the same babe will come on the TL and accuse brother of rape when he took it by force 🙄🙄. \n",
            "1399153542485581829 2021-05-30 23:59:34 +0000 <Lord_Dionysus> This is why it is important to talk to women and actually listen to them. How can you date such a fundamentally perverse person for two years? This is rape oh. 14 years of your life because somebody made her mother a promise she wants to dodge? \n",
            "1399088260501098498 2021-05-30 19:40:09 +0000 <omalicioustoyin> 99.9 fm, these guys talking about rape are really low oriented and disgusting \n",
            "1399069176887644171 2021-05-30 18:24:19 +0000 <DatBonnyBoy> @ChefAmah So there's difference in rape and force. This gender self 🏃🏿‍♂️🏃🏿‍♂️🏃🏿‍♂️🏃🏿‍♂️ \n",
            "1399047761257971712 2021-05-30 16:59:13 +0000 <olori_MEG> @KingVicx This guy is so understanding😥 She said is its not rape rape. Ahhh its so sad that Aunty's head is in the wrong place. Ehh😧 \n",
            "1399008727479554049 2021-05-30 14:24:07 +0000 <crusheroflagos> @Naija_PR Why rape 😭😭 \n",
            "1398992222142488576 2021-05-30 13:18:32 +0000 <KehindeShoots> Na so dem go talk for your face, still come online to call you rapist because you actually did rape her wether she wanted it or not. Don't allow the devil to use you gentlemen. A good name is better than a few minutes of sexual pleasure. \n",
            "1398950165751402500 2021-05-30 10:31:25 +0000 <Dillyphiancee1> @RealKawdsen @XerxesEmperor @kasukulid @infamous_dinero @ifeomatess No need replying.  It like someone saying people don't rape because they haven't been raped. \n",
            "1398886498922078209 2021-05-30 06:18:26 +0000 <EngrShuga> A rape apologist!!! Keep up the same energy when a gay guy rapes you. I won't say they'll rape your sister or child because you won't be the one going through the pain and trauma. If babe no wan nack you, go find another one. Stop supporting evil. This isn't a gender war. \n",
            "1398703134394957828 2021-05-29 18:09:48 +0000 <OgbeniAyoola> In recent times, the alarming rate of rape among other vices affecting girls is becoming a dilemma, this, the need to reorient our girl children about menstrual hygiene, rape and teenage pregnancy is pertinent and that made the team decide to embark on this for our 2021 project.  https://t.co/TCPB2DWefZ \n",
            "1398644338641424391 2021-05-29 14:16:10 +0000 <T__Alao> It keeps getting worse, when will these issues about murder and rape be tackled seriously? 😭😭😭😭😭😭😭😭😭😭😭😭#JusticeForComfortBenjamin JusticeForComfortBenjamin\n",
            "1398509533388066817 2021-05-29 05:20:30 +0000 <Badbanky> How you go carry 16 year old pikin, rape am, use am anyhow like say no he human being, kon still kill am on top. Omo... why are people like this?, which kin bastard mindset be that?. Fuck \n",
            "1398400170681831424 2021-05-28 22:05:56 +0000 <Usainbalakanam> People are heartless and wicked, how can you rape and killed a 16 years old in cold blood 💔  #justiceforcomfortbenjamin justiceforcomfortbenjamin\n",
            "1398370112340729860 2021-05-28 20:06:29 +0000 <DIKAOLIVER> @topefasua Development is a result of visionary leaders. I used to theorize that a society will always develop irrespective of negative vices. This present crop of leaders have proved me terribly wrong. I have never seen this much of rape of intellect, vision and goodwill. \n",
            "1398366439866830853 2021-05-28 19:51:54 +0000 <ruthtilleygyado> When they rape a girl why do they have to kill her 😭😭😭😭😭.#justiceforcomfort justiceforcomfort\n",
            "1398344790299795461 2021-05-28 18:25:52 +0000 <IamNankpak> Our young girls need to be protected at all cost.  We've lost another promising star to rape and gender abuse.  What happened to Comfort Benjamin??  #JusticeForComfortBenjamin  https://t.co/cPUarQWgKH JusticeForComfortBenjamin\n",
            "1398331105036615686 2021-05-28 17:31:29 +0000 <Ekinigbo_budu> @GazetteNGR Say no to cultism. Say no to drug abuse, say no to rape. #woke woke\n",
            "1398156757504086018 2021-05-28 05:58:42 +0000 <MsLollipop10> As a husband forcing your wife to have sex with you is rape!!!👌🧏🏻‍♀️  Don't say because she is your wife o😒  Have respect for ladies  If you try it in America they will take you to the fucking jail were fucking rapist belong.... \n",
            "1397891738325430272 2021-05-27 12:25:36 +0000 <eon_dinoh> Precaution and steps in reporting Sexual Gender Based Violence SGBV Among Teenagers including Rape, teenage pregnancy, pedophile, online dating and relationships we also got bonus topics on hygiene during menstruation, had a fireside chat on raising better boys,men better society  https://t.co/j6lw7fp0h8 \n",
            "1397850395368738816 2021-05-27 09:41:19 +0000 <Tobenna77578153> Which gender promote Rape in our country? Knowing this can help in Educating such gender the most \n",
            "1397646966671163394 2021-05-26 20:12:58 +0000 <naivyng> Did she just rape her husband?... \n",
            "1397637095846514689 2021-05-26 19:33:45 +0000 <queenlibertyfo> Did you know that Nigeria has recorded 717 rape cases between January and May alone?  https://t.co/sR0ZmSCzhw \n",
            "1397621883638530048 2021-05-26 18:33:18 +0000 <NelsonEstherTa2> @ilovejasperrr @9_11_90s You mean rape all your sisters..? \n",
            "1397621510647451648 2021-05-26 18:31:49 +0000 <McGingerIbeneme> @Itiroro Kidnap and rape which women ? Maybe inside your head . Armed people are fighting,qed \n",
            "1397621149346013190 2021-05-26 18:30:23 +0000 <nguleonce> What should happen to women who accuse men of rape falsely?!? \n",
            "1397556752703492098 2021-05-26 14:14:29 +0000 <iam_doctormayor> The same father the same mother. You arranged someone to rape your own sister, lobatan \n",
            "1397486906166837254 2021-05-26 09:36:57 +0000 <thesuyibrand> @Eli_Cube So that makes it okay? Makes no sense. Especially since no one is being hurt in the process why this? If it's an issue of fraud or rape then the outcry would be understood I did not donate and I'll  not advise someone that I know to do that but that's why you can LITERALLY ignore \n",
            "1397479527169892353 2021-05-26 09:07:37 +0000 <lezkid> One of my neighbor,a very close guy tried to rape our Neighbor’s maid last two weeks.I earlier told him if you don’t control your D ,one day your D will control you.This guy can fvck just any lady (underage or older women).Baba is cooling off at the cell now.we can do better guys \n",
            "1397334688335859713 2021-05-25 23:32:05 +0000 <TundeOlowo2> @motolanist I once told one lady  that loves wearing lingerie up and down in the compound that see(the day wey one of these rats go rape you ehnn)she laughed uncontrollably 😹😹 \n",
            "1397292432438571014 2021-05-25 20:44:10 +0000 <da_only_uzondu> @_olawealth @Wizarab10 So why play me the \"rape\" card.  Omooo..... Na she know sha \n",
            "1397279353990488067 2021-05-25 19:52:12 +0000 <theshawttynatt> I will attack you because you no get sense. The hijab sisters that were raped na nudity? The kids? Na nudity. Just say it with your full chest that you will rape anyone that’s naked. Ashiere. \n",
            "1397265688125923336 2021-05-25 18:57:54 +0000 <Speedy504272960> @GoziconC @iyaboawokoya Many after Buhari would have left the seat, the mess being created by southeasterners would not be cleared, IDPs, damaged infrastructure, business loss, short lifespan, rape, jungle justice, starvation etc \n",
            "1397142328888991746 2021-05-25 10:47:43 +0000 <EyitayoSamuel3> @jackstone3101 @FrankKhalidUK This formation will make city rape Chelsea \n",
            "1397108689891385349 2021-05-25 08:34:03 +0000 <AB_Isyaka> @Mus6ey I support this your notion. If dressing half naked is is the precursor of rape why then are ladies in full hijab also rape. \n",
            "1397095618070319107 2021-05-25 07:42:06 +0000 <smile_kiddies> @SalisuKabir__ @Waspapping_ Mostly they rape under age children who knows nothing \n",
            "1396945832402989056 2021-05-24 21:46:55 +0000 <MallyVibez> That rape period hot gan ngl \n",
            "1396868359074025473 2021-05-24 16:39:04 +0000 <jeromes_media> @MayorOfYola in the first place it's disgusting that there is an excuse to rape someone people who do it do not deserve happiness as raping someone is like taking happiness from them \n",
            "1396798450608582660 2021-05-24 12:01:16 +0000 <haderotaki> Rape stories and more: Stories like this break me all the time and I fear I belong to the species of monsters that commit such atrocities. \n",
            "1396729626358128642 2021-05-24 07:27:47 +0000 <iam_doctormayor> Masculinity isn't toxic. It's men who aren't red pilled who are toxic. Red pillers know:  •if she cheats you LEAVE - not kill her •if she disrespectful you LEAVE - you don't beat her •if she doesn't want to get sexual you REPLACE her - not rape her #notorape notorape\n",
            "1396523236851081216 2021-05-23 17:47:40 +0000 <Lacheln___> People have choices Men rape because they want to \n",
            "1396484153940619265 2021-05-23 15:12:22 +0000 <adamugarba> That state of emergency, full of allegations of rape, extrajudicial killings  and arbitrary ransacking of houses of the people in Borno, Yobe and Adamawa state, was, if I may say, the booster to encourages Boko Haram to thrive, when most people were turned against the military. \n",
            "1396476620073050116 2021-05-23 14:42:26 +0000 <MOSTOPkeepiton> @iamscrummyy Take a move first, Don't come here later and be telling us sey one guy rape you ooooooo \n",
            "1396394805899546624 2021-05-23 09:17:20 +0000 <holuwatobby1> @manlikeAyock No.. Nothing will make me rape anyone, if you check well, i said that\" particular tweet \" \n",
            "1396383791854362625 2021-05-23 08:33:34 +0000 <iamlasbrey> @Chidubem_OH Tbvh, nothing concern rape and indecent dressing \n",
            "1396381727896002561 2021-05-23 08:25:22 +0000 <steve_n_o> A whole lot of words, too little common sense. Rape is not about the sex, it is about entitlement and power dynamics. \n",
            "1396373485136584706 2021-05-23 07:52:36 +0000 <reachoutdev1> We are grateful for yesterday's  successful consultative meeting to #endviolations in #Cameroon. Our Executive Director, Esther Omam shared some examples of violations in cameroon such as sexual harassment, rape, gender based violence and marginalisation of Vulnerable groups.  https://t.co/EkxRQ7oXWZ endviolations,Cameroon\n",
            "1396372547399307265 2021-05-23 07:48:53 +0000 <P_Cornucopia> Someone will wake up on a Sunday morning like this and decide to write a thread that says rape is caused by indecent dressing of women. That rapists tend to carry out their act because of all the naked pictures they've seen.....  Omo! 😳  I just weak \n",
            "1396358510871449602 2021-05-23 06:53:06 +0000 <SheisOgo> So someone sat down and made a thread implying that ladies that wear whatever they want are the reason men rape both adults and kids??????  And grown men watching porn or adult videos is the reason they go off and pick a girl of 2yrs to defile!!  How do some people think??!!!😫 \n",
            "1396176433236615170 2021-05-22 18:49:36 +0000 <christianArtsG> INSPIRED BY CHRISTIAN DAVID WRITER:JULIET NWOBODO TITLE:\"SAY NO TO RAPE\"❌❌❌😡😡😡‼️‼️ The Evil that keeps on staining the curtains of our society,why do you Indulge it You took by force a treasure I guarded, by force you took my dignity and made me worthless 🎨 Pls Share 🙏🙇  https://t.co/szBv3kPLqZ \n",
            "1396105921739247616 2021-05-22 14:09:24 +0000 <manlikepablo01> Bayern dey rape augsburg 😭 \n",
            "1396039530822737925 2021-05-22 09:45:35 +0000 <Earnestine_lavi> @NikeOyin @officialnairam1 Okay he shouldn’t Andy? He should go and rape them abi? \n",
            "1395980090442502144 2021-05-22 05:49:24 +0000 <ehqow> This be rape ooo \n",
            "1395842522216271873 2021-05-21 20:42:45 +0000 <NgeteA> What's wrong. Nigerian plane are falling like rape fruit. \n",
            "1395811136692445187 2021-05-21 18:38:02 +0000 <eazyart__> @TundeEddnut Omo... see rape victims in the making. 😪😪😪😪 \n",
            "1395761244787851265 2021-05-21 15:19:47 +0000 <MRukkiie> @Gamajunior6 @Wizarab10 This is the mentality the men who go ahead to rape women have. Why pressure someone who says they're not interested? Even when they have consistently said they're not? And how do you assume they want it too? Does it mean for every advance, YES is constant?🤦 \n",
            "1395730049807044617 2021-05-21 13:15:49 +0000 <christianArtsG> \"SAY NO TO RAPE\"❌😡‼️ The World's Shame:The Global Rape Epidemic. We hope that this global report will open up a conversation to bring addressing SEXUAL violence in the very centre of our collective thinking and action and to promote the right of women and girls everywhere..  https://t.co/2eJH7s5yXn \n",
            "1395651319151607808 2021-05-21 08:02:59 +0000 <akhamiemhona> @sunrisedailynow  The BAN of open grazing by the south south governor's is a welcome development. For once let the right thing be done. Am surprised with the way the people in power from the North  are against it. Lives have been lost. Rape, kidnap..etc \n",
            "1395473347383898112 2021-05-20 20:15:47 +0000 <Godwilnotwhineu> @ani_berny @Wizarab10 Thats why few ladies now establish that fact,coz they know rape is d only concrete excuse they can give their new prospective partner.. \n",
            "1395311514333204487 2021-05-20 09:32:43 +0000 <LordVara> Murder Rape Kidnap  Every day, every night 24/7. This country 😩😩 \n",
            "1395265041595785216 2021-05-20 06:28:03 +0000 <Olodora> Na wa oh.  The heart of man is truly desperately wicked.  I was expecting this to be a rape story, but this is even worse. \n",
            "1395243249477070850 2021-05-20 05:01:27 +0000 <SongsintheNight> As I've said many times, if abortion were outlawed except for cases of rape, incest, mother's safety etc, it would eliminate well over 99% of abortions and would be cause to rejoice.  Now let's offer those past 15 wks prenatal care, parenting or adoption support, maternity leave. \n",
            "1395015732929433601 2021-05-19 13:57:23 +0000 <ar3songz> @DeltaFirstPikin @mrmacaronii See what he did is illegal, no matter what the student does, no one deserves that kind of punishment   That's plain COERCION and it's very illegal in any country, its synonymous to RAPE  If people reacted to things they heard about what others said in that manner who will remain? \n",
            "1394390407266590720 2021-05-17 20:32:34 +0000 <Joromi_Michael_> To all of you that cut off endorsement deals with Baba Ijesha because of the rape issue Shame on you, I repeat shame on you 🚶🚶🚶  https://t.co/BEo0F0bf9I \n",
            "1393854774890704897 2021-05-16 09:04:09 +0000 <PapaKing73> @gudentent @aproko_doctor Stop sounding like the baby on your Avi. We're talking about serious issues. Rape &amp; murder. You don't have to be insultive. \n",
            "1393806961507028992 2021-05-16 05:54:09 +0000 <willieuch> What joy do some guys derive when they kidnap a lady for rape, And even to kill for ritual purpose. Ritual doesn't give money stop deceiving your self .  There are more than 1 million ways to make money without killing any one. Stop killing ppl. \n",
            "1393592072561700866 2021-05-15 15:40:16 +0000 <YungHusband_> If he removed condom without her consent, that's rape. \n",
            "1393428031683837955 2021-05-15 04:48:26 +0000 <DIKAOLIVER> A good lawyer briefed them on what to say. Did you notice that the Commissioner changed from the earlier report of rape to 'he had carnal knowledge of her'. Then he tried to make it look like the sex was consensual so it doesn't appear to be an orchestrated murder. \n",
            "1393313080470380545 2021-05-14 21:11:39 +0000 <reuel4real> @Imudia_se2 😃 Funny, her dead body or the rape he raped her \n",
            "1393235769905586180 2021-05-14 16:04:27 +0000 <SchoolzMcCoy> Every day, our news articles reek of missing persons, vandalism, strike actions, insurgency, rape, political corruption, arson, sky-high unemployment rates, inflation, religious conflict, money laundering, territorial encroachment, civil unrest, threats of cessation, looting, \n",
            "1393235713953570816 2021-05-14 16:04:13 +0000 <SchoolzMcCoy> and negotiations with openly armed, and obviously known gunmen; same gunmen who abduct our children from schools, rape our women, destroy personal and public properties. Same terrorists who openly demand a hundred and sixty billion of our national finances and tax payers’ money. \n",
            "1392622724875489280 2021-05-12 23:28:25 +0000 <DogbaAlex> @Venunye7 They need to be wrongful sentence for Rape or Murder then, they will get their Enlightenment \n",
            "1392539818761015298 2021-05-12 17:58:59 +0000 <mctobyte1> @AttentionFirst @CCCRN__ @DavidHundeyin @NewsWireNGR They are still doing great deal of works and healthcare services... They support those with HIV and tuberculosis. They are also into improvement of healthcare for women and also promote education for girl child, the run strong vanguard against rape and also support rape victims.. \n",
            "1392532093805252609 2021-05-12 17:28:17 +0000 <iconic_dumebi> @elliotyemi @DammieVee4 @instablog9ja Rape apologist. \n",
            "1392208088489504773 2021-05-11 20:00:48 +0000 <peniel_ify> Any one that comes out to protest with that Yomi fabiyi guy is a rape apologist \n",
            "1391639602293784576 2021-05-10 06:21:51 +0000 <EmekaVa60617295> @Gracebal0 @Belyn_da It's a request dear, if you agree cool if you don't he bounce. Las Las it's better of than rape. \n",
            "1390950248810438658 2021-05-08 08:42:36 +0000 <ForbesVictorx> @SaharaReporters From the video, \"we heard\" Baba Ijesha molested the girl at 7 years, molesting a girl of that age could damage them and make them vulnerable leading to abuse and perhaps rape that lead to the pregrancy.  Child molestation is wickedness and has heavy consequences on children. \n",
            "1390679770996875265 2021-05-07 14:47:49 +0000 <AOUsmanEsq> Supreme Court's decision &amp; directives on Oyo illegation vacation of dully elected LG Chairmen is a landmark in our democratic story &amp; equally a victory for Rule of Law. Politicians must be checkmated by the Judiciary to avoid the repeated blatant rape of democratic institutions \n",
            "1390420308151111680 2021-05-06 21:36:48 +0000 <Mr_Gem1010> @DoctorFeelG @TheVyralTrendz Man rape man. \n",
            "1389867884613095431 2021-05-05 09:01:40 +0000 <SHMB_Design10> @rainbowrosey_ @Jackdick2003 @channelstv What is the charge! ? Rape or molestation? \n",
            "1389538232463921156 2021-05-04 11:11:45 +0000 <mzfolaseinde> @theiphanyi @ShhRebel @Ore_akiinde You have the tendency to be a rapist or rape apologist. This your comment is a red flag.People should be aware of you o,ahhh. \n",
            "1389360433044279302 2021-05-03 23:25:14 +0000 <KalaNafiu> Guys be sincere oh if you are rape by a woman will you report to the police 🚶🚶🚶🚶🚶 \n",
            "1389217632516182020 2021-05-03 13:57:48 +0000 <Sommmie__> @isaw_lulu @madammide @SavvyRinu Rape is rape. Doesn't matter if it was by a kidnapper or boyfriend. \n",
            "1389041721850441732 2021-05-03 02:18:48 +0000 <FolakemiItunu> Say no to rape, cheap girls dey everywhere👌👌👌👌 \n",
            "1389005405255344138 2021-05-02 23:54:29 +0000 <tyronestevens_> Existing in Nigeria is a crime. The country is at the brink of a Civil War, Banditry is on the rise...Yet someone had the time to lure a young woman, rape and kill her. I’m genuinely exhausted. \n",
            "1388976791428214789 2021-05-02 22:00:47 +0000 <Sommmie__> Do u know how horrible it feels 4 u to keep fighting a man who is ten times stronger than you until you eventually let him have his way with you just so he doesn't do something violent to you. Imagine having to choose rape as the lesser evil.   Y'all would NEVER get this shit \n",
            "1388972189957951492 2021-05-02 21:42:30 +0000 <Sommmie__> @isaw_lulu @SavvyRinu First of all, they are no longer \"accusations\" because he did that shit and secondly,are you trying to invalidate a rape case because of the time the victim decided to speak about it? \n",
            "1388968407610109955 2021-05-02 21:27:28 +0000 <Sommmie__> @isaw_lulu @SavvyRinu It is/was/always will be rape. Consent was given and later withdrawn. If you do not understand this then I really do not wanna have a conversation with you, thanks. \n",
            "1388958757854584832 2021-05-02 20:49:08 +0000 <OmotayoSophia> Sometimes I'm forced to think that the incessant rape, sexual assults cases on the female gender are the reasons why we have so many misandrist disguising to be \"feminist\".   I'm not sure if this is a valid reason though 🥺 \n",
            "1388932116814176269 2021-05-02 19:03:16 +0000 <opeyemixxo_> Battling with one issue of rape, now another video surfaces of a dimwit defiling young boys. What exactly is wrong with these people. I’m so sick to my stomach 😭 \n",
            "1388905968180793345 2021-05-02 17:19:22 +0000 <kelvinbernald4u> @Its_Teegold @AsiwajuPH Rape case🤣 \n",
            "1388814686527840258 2021-05-02 11:16:38 +0000 <Muphyk> SAY NO TO RAPE, SAY NO TO GIRL MOLESTATION, SAY NO WOMAN MOLESTATION, SAY NO ABUSE OF UNDER AGE GIRL CHILD. GOD SAVES OUR GIRL CHILD AND ALL WOMAN OUT THERE. #rape #JusticeforHinyHumoren #Ju rape,JusticeforHinyHumoren,Ju\n",
            "1388779030850248708 2021-05-02 08:54:57 +0000 <Cameraperfect_> Opens twitter  1. Murder and rape of jobseeker  2. Visual evidence of child molestation by actor  3. School principal defiles and pimps out school children. \n",
            "1388777945901289473 2021-05-02 08:50:39 +0000 <Torrisben07> Wait but what come to the mind of a rapist, oh you just wake up and your goal is to find a possible means to rape, you start strategizing, making moves to get a victim. I don’t just still understand, is there a form of happiness they derive from just forcefully having sex? \n",
            "1388777497920147460 2021-05-02 08:48:52 +0000 <SongsintheNight> @CarmichaelStef @RevDuv I just finished Judges.   The rape of a woman to death was considered so grievous that the Lord signed off on 25,000 Benjamites being killed in retribution.  I'm still processing this. \n",
            "1388776680660127752 2021-05-02 08:45:37 +0000 <meme4her> Why rape her? Why kill her? Why??? #JusticeForHinyUmoren JusticeForHinyUmoren\n",
            "1388774888803078145 2021-05-02 08:38:30 +0000 <Axeurdaddy> Everyone defending him are complex fools and rape apologists \n",
            "1388774814496788481 2021-05-02 08:38:12 +0000 <Babakay93> @Mkd43779843 @OgbeniDipo Dem go do ur daughter too... ode  Ur common sense didn’t tell you that they needed an evidence on the case and they have to get one for foolish people like you who wants ijesha to be freed and rape ur own daughters \n",
            "1388774641121087490 2021-05-02 08:37:31 +0000 <Teenah_Dennis> #FindHinnyHumoren God didn't make a mistake by creating a woman. Y'all pedophilic, retarded, horny bastards!!! If your smelling dicks will cause you to kill and rape somebody's child, cut it off!!!  This is so inhumane!! . RIP In😭😭😭😭😭😭😭😭  https://t.co/RGTJROvxyI FindHinnyHumoren\n",
            "1388774567615807490 2021-05-02 08:37:13 +0000 <ConvertOdds> Isn't it mental illness to go through all those stress to Rape and kill someone. What is the aim, did they ban Prostitute. If you must have sex. Wickedness is just the low of that guys characteristics \n",
            "1388770217480835075 2021-05-02 08:19:56 +0000 <dabuthegemini> Bruhhhhh 😭😭😭  I can’t even hold back the tears anymore. Why is the heart of man so wicked?   Rape, killed and buried a young girl out of what? For wetin guyyyyy???? 💔😞 \n",
            "1388769551014322176 2021-05-02 08:17:17 +0000 <Nimi_Oke> @boye_ee To be honest. Only God knows how many people have vanished that way. The guy had many cases of rape but he was still roaming free💔 \n",
            "1388750864802799626 2021-05-02 07:03:02 +0000 <ffashiongenius> @HUNCHO4N If it was the other way around now they will call it rape 💀 \n",
            "1388749485786943488 2021-05-02 06:57:33 +0000 <Ennison_Esq02> #babaijesha, #Nigerianlawyers, #bolanlecole SAY NO TO FALSE ACQUISITION.... Haba Make una free this Man called @BabaIJESHA.  He's not guilty of Rape. Yes He admit molesting the girl but Not Rape. We have Laws that guides us in Nigeria why do we take justice into our hands... babaijesha,Nigerianlawyers,bolanlecole\n",
            "1388747915460501506 2021-05-02 06:51:19 +0000 <Ennison_Esq02> @Gidi_Traffic @James__Jo Y are you guys tarnishing the Image of a suspect who has not been proven guilty of Rape??? Why??? This is not Rape??? Do you know the Element that Constitute Rape??? Penetration!!! Was there any penetration???? No but why you guys keep shouting Rape??? This is just Molestation. \n",
            "1388746817836355585 2021-05-02 06:46:57 +0000 <Ennison_Esq02> @BolanleCole Why???? He is not guilty of Rape, it was just an ordinary Misdemeanor, simple offense.... Tho no one pray for such to happen his/her child but haba. It's just A Simple offence. Molestation not a Capital offence... Make una no turn law Upside down ooo... \n",
            "1388743289457754112 2021-05-02 06:32:56 +0000 <tbntelecoms1> @funkealade_ @LordChesterman @MobilePunch Sure, it was an indecent assault,  even the police confirmed that but it's not a rape case. Dont forget the police interrogate the girl for over an hour. Anyway, let's wait till the court resume. \n",
            "1388640771658690562 2021-05-01 23:45:34 +0000 <pappyrahzi> @VuyiSN1 @MeetOlamide That's how I want people to see rape, its not a feminine thing, it's happening to both gender. And of course that's the best way to handle it by reporting the matter to a law enforcement agency (the police) not people rating and taking sides. \n",
            "1388635438202728450 2021-05-01 23:24:22 +0000 <Fklef_Tv> @DKevweboy @SMiTHiE___ Haven't you heard he is the cause of the Rape/Child Molestation that Baba Ijesha committed 😪 Very stupid man! #desmondelliot desmondelliot\n",
            "1388557800104775681 2021-05-01 18:15:52 +0000 <1stroyalty_ng> No amount of money can heal a traumatized rape victim... male or female... they all deserve true justice. \n",
            "1388488203922026498 2021-05-01 13:39:19 +0000 <JosephOput> Nigerian man in South Africa convicted of human trafficking, rape, sexual exploitation  https://t.co/8QJFDFoz0E \n",
            "1388454552920285187 2021-05-01 11:25:36 +0000 <hassansasman> If the girl was to report dz trip to @Boltapp_ng that the man was trying to rape him or did something bad what would av happened? we all know what would av happened his acct would be blocked without bolt listening to his own side of story first meaning his means of income is gone \n",
            "1388439100127125505 2021-05-01 10:24:12 +0000 <BookieFlair> Rape should not be condoned in our society.  Rape cases cannot be settled in the family   Report all rape case to appropriate quarters   The incidents in this thread is heartbreaking \n",
            "1388433148988596226 2021-05-01 10:00:33 +0000 <AAGHEDO> @SaharaReporters @NigAirForce E no go better for the bastard way rape this woman. I really pray they really pay her that compensation even though it won’t change the trauma she went through, but it will help in her starting a new life. A very brave woman indeed for seeking redress God bless her heart. \n",
            "1388432005088616454 2021-05-01 09:56:00 +0000 <Tyek000n> That's rape. \n",
            "1388428658826698756 2021-05-01 09:42:42 +0000 <Coco_bank20> People need to be educated and be  supported on the need to speak up against RAPE, SEXUAL HARASSMENT AND TREAT TO ONES LIFE. It is not when we have another victim of this evil men ,we will be sharing our own story. Lets end evil one's and for all. #FindHinyUmoren FindHinyUmoren\n",
            "1388416167774236673 2021-05-01 08:53:04 +0000 <MatadorAdigida> Iyabo Ojo blast Yomi on Baba Ijesha Child Rape saga.   https://t.co/d6ONk9kCKy \n",
            "1388408560489467905 2021-05-01 08:22:50 +0000 <Phellixleo> I don't understand how people will be backing someone that confessed to a crime on video. Rape for that matter. Are we even normal in this country at all? \n",
            "1388407350491598848 2021-05-01 08:18:02 +0000 <PhilipCKO> Damn....the recent news about that Mr ijesha of a human who molested that girl child is just a sad tale. With the news I'm getting that guy should rot in jail.  In jail. And to those who are supporting him they are rape apologist. Should be watched carefully. \n",
            "1388406684251574275 2021-05-01 08:15:23 +0000 <oapaynigeria> @AGWalefapohunda @Above_Whispers @tutuoluwaseyi It doesn’t matter now anyways, the most important thing is to keep ensuring that people desist from seeing Rape as a norm.  It’s an ABNORM that we all must condemn in actions and indeed. \n",
            "1388403826273800192 2021-05-01 08:04:02 +0000 <oapaynigeria> @AGWalefapohunda @bisiafayemi @AbiodunBorisade @AO1379 @Debiwumi @Ekitiupdate @ekiti_MOjustice I know this, cause I follow the works of @ekiti_MOjustice &amp; H.E @bisiafayemi   I had to meet up Barr. Shirley Atane this week while on a case and I was alarmed about the number of rape cases on ground. I think the good thing is, we have an environment where people can SPEAK UP! \n",
            "1388400794018459649 2021-05-01 07:51:59 +0000 <favogbuji> I’m still a fan of jungle justice ....especially in matters of rape, theft.....  It’s the last paragraph for me \n",
            "1388383118609027073 2021-05-01 06:41:45 +0000 <biolaaaaaaa> That’s rape. I hope she’s arrested \n",
            "1388381449448009730 2021-05-01 06:35:07 +0000 <favourafolabi> @somiscellany My recommendation for Rape remains Death ny Hanging! \n",
            "[!] No more data! Scraping will stop now.\n",
            "found 0 deleted tweets in this search.\n",
            "[+] Finished: Successfully collected 131 Tweets.\n"
          ],
          "name": "stdout"
        },
        {
          "output_type": "execute_result",
          "data": {
            "text/plain": [
              "[None, None, None]"
            ]
          },
          "metadata": {
            "tags": []
          },
          "execution_count": 6
        }
      ]
    },
    {
      "cell_type": "code",
      "metadata": {
        "id": "opBp3ByHAfcd"
      },
      "source": [
        ""
      ],
      "execution_count": null,
      "outputs": []
    },
    {
      "cell_type": "code",
      "metadata": {
        "id": "sUkv1nqq-KS2"
      },
      "source": [
        "for i in glossary:\n",
        "    try:\n",
        "        f = pd.read_csv(f'{i}.csv').sort_values('date')\n",
        "        f.to_csv(f'{i}.csv')\n",
        "        !cp {i}.csv \"drive/My Drive/Colab Notebooks/Scrap_Twitter\"\n",
        "    except:\n",
        "        f = pd.read_csv(f'{i}.csv')\n",
        "        f.to_csv(f'{i}.csv')\n",
        "        !cp {i}.csv \"drive/My Drive/Colab Notebooks/Scrap_Twitter\""
      ],
      "execution_count": 12,
      "outputs": []
    },
    {
      "cell_type": "code",
      "metadata": {
        "colab": {
          "base_uri": "https://localhost:8080/"
        },
        "id": "lCIpx3jr7soI",
        "outputId": "d75c073d-9679-4fa9-e0e8-76233ba8daf0"
      },
      "source": [
        "from google.colab import drive\n",
        "drive.mount('/drive') # include this backslash at the beginning"
      ],
      "execution_count": 12,
      "outputs": [
        {
          "output_type": "stream",
          "text": [
            "Mounted at /drive\n"
          ],
          "name": "stdout"
        }
      ]
    },
    {
      "cell_type": "code",
      "metadata": {
        "id": "RbZuDE4EBaLs"
      },
      "source": [
        ""
      ],
      "execution_count": null,
      "outputs": []
    },
    {
      "cell_type": "code",
      "metadata": {
        "id": "xltmOTA_16Jq",
        "colab": {
          "base_uri": "https://localhost:8080/"
        },
        "outputId": "e7636d8e-8aa0-4e86-8e5c-fe89627e73b3"
      },
      "source": [
        "!ls \"drive/My Drive/Colab Notebooks/Scrap_Twitter\" # to see all files in Colab Notebooks folder"
      ],
      "execution_count": 13,
      "outputs": [
        {
          "output_type": "stream",
          "text": [
            "consent.csv  GBV.csv  rape.csv\n"
          ],
          "name": "stdout"
        }
      ]
    },
    {
      "cell_type": "code",
      "metadata": {
        "id": "y-zQmXJvB0ao"
      },
      "source": [
        "import os\n",
        "filenames = [os.path.join(path, name) for path, subdirs, files in os.walk(\"drive/My Drive/Colab Notebooks/Scrap_Twitter\") for name in files]\n",
        " # Be careful to use your folder with scraped files. This line will merge every suitable file in the folder, so it's best to create a new folder for scraped tweets.\n"
      ],
      "execution_count": 15,
      "outputs": []
    },
    {
      "cell_type": "code",
      "metadata": {
        "id": "9Zhu7DPBCv4s"
      },
      "source": [
        "merged_files = [pd.read_csv(filename, index_col=None, header=0) for filename in filenames]\n",
        "merged_files_csv = pd.concat(merged_files, axis=0, ignore_index=True)\n",
        "merged_files_csv.to_csv('merged_files.csv')\n",
        "!cp merged_files.csv \"drive/My Drive/Colab Notebooks/Scrap_Twitter\" # or any destination you wish"
      ],
      "execution_count": 17,
      "outputs": []
    }
  ]
}